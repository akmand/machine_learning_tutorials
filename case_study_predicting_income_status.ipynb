{
 "cells": [
  {
   "cell_type": "markdown",
   "metadata": {},
   "source": [
    "# Predicting Income Status\n",
    "\n",
    "The objective of this case study is to fit and compare three different binary classifiers to predict whether an individual earns more than USD 50,000 (50K) or less in a year using the 1994 US Census Data sourced from the UCI Machine Learning Repository (Lichman, 2013). The descriptive features include 4 numeric and 7 nominal categorical features. The target feature has two classes defined as \"<=50K\" and \">50K\" respectively. The full dataset contains about 45K observations.\n",
    "\n",
    "This report is organized as follows:\n",
    "- [Section 2 (Overview)](#2) outlines our methodology. \n",
    "- [Section 3 (Data Preparation)](#3) summarizes the data preparation process and our model evaluation strategy. \n",
    "- [Section 4 (Hyper-parameter Tuning)](#4) describes the hyper-parameter tuning process for each classification algorithm.\n",
    "- [Section 5 (Performance Comparison)](#5) presents model performance comparison results.\n",
    "- [Section 6 (Limitations)](#6) discusses a limitations of our approach and possible solutions. \n",
    "- [Section 7 (Summary)](#7) provides a brief summary of our work in this project.\n",
    "\n",
    "Compiled from a Jupyter Notebook, this report contains both narratives and the Python code used throughout the project."
   ]
  },
  {
   "cell_type": "markdown",
   "metadata": {},
   "source": [
    "# Overview <a class=\"anchor\" id=\"2\"></a> \n",
    "\n",
    "### Methodology\n",
    "\n",
    "We consider the following (binary) classifiers to predict the target feature:\n",
    "\n",
    "* K-Nearest Neighbors (KNN),\n",
    "* Decision trees (DT), and\n",
    "* Naive Bayes (NB).\n",
    "\n",
    "Our modeling strategy begins by transforming the full dataset cleaned in Phase I. This transformation includes encoding categorical descriptive features as numerical and then scaling of the descriptive features. We first randomly sample 20K rows from the full dataset and then split this sample into training and test sets with a 70:30 ratio. This way, our training data has 14K rows and test data has 6K rows. To be clear, our terminology here is that \n",
    "- The 14K rows of data used during the hyper-parameter tuning phase is called the **training data**.\n",
    "- The 6K rows of data used during the performance comparison phase is called the **test data**.\n",
    "\n",
    "Before fitting a particular classifier on the training data, we select the best features using the powerful Random Forest Importance method inside a pipeline. We consider 10, 20, and the full set of features (with 41 features) after encoding of categorical features. Using feature selection together with hyper-parameter search inside a single pipeline, we conduct a 5-fold stratified cross-validation to fine-tune hyper-parameters of each classifier using area under curve (AUC) as the performance metric. We build each model using parallel processing with \"-2\" cores. Since the target feature has more individuals earning less than USD 50K in 1994 (unbalanced target class issue), stratification is crucial to ensure that each validation set has the same proportion of classes as in the original dataset. We also examine sensitivity of each model with respect to its hyper-parameters during the search.\n",
    "\n",
    "Classifiers with the best set of hyper-parameter values as identified via grid search using the training data are called **tuned** classifiers. Once we identify the three tuned classifiers (with the best hyper-parameter values), we \"fit\" them on the test data using 10-fold cross-validation in a paired fashion and we perform paired t-tests to see if any performance difference is statistically significant. In addition, we compare the classifiers with respect to their recall scores and confusion matrices on the test data."
   ]
  },
  {
   "cell_type": "markdown",
   "metadata": {},
   "source": [
    "# Data Preparation <a class=\"anchor\" id=\"3\"></a> \n",
    "\n",
    "## Loading Dataset\n",
    "\n",
    "We load the dataset from the Cloud. Below we set the seed to a particular value at the beginning of this notebook so that our results can be repeated later on."
   ]
  },
  {
   "cell_type": "code",
   "execution_count": 1,
   "metadata": {},
   "outputs": [
    {
     "name": "stdout",
     "output_type": "stream",
     "text": [
      "(45222, 12)\n"
     ]
    },
    {
     "data": {
      "text/plain": [
       "array(['age', 'workclass', 'education_num', 'marital_status',\n",
       "       'occupation', 'relationship', 'race', 'gender', 'hours_per_week',\n",
       "       'native_country', 'capital', 'income_status'], dtype=object)"
      ]
     },
     "execution_count": 1,
     "metadata": {},
     "output_type": "execute_result"
    }
   ],
   "source": [
    "import warnings\n",
    "warnings.filterwarnings(\"ignore\")\n",
    "\n",
    "import numpy as np\n",
    "import pandas as pd\n",
    "import io\n",
    "import requests\n",
    "\n",
    "# so that we can see all the columns\n",
    "pd.set_option('display.max_columns', None) \n",
    "\n",
    "# how to read a csv file from a github account\n",
    "url_name = 'https://raw.githubusercontent.com/akmand/datasets/master/us_census_income_data_clean.csv'\n",
    "url_content = requests.get(url_name, verify=False).content\n",
    "dataset = pd.read_csv(io.StringIO(url_content.decode('utf-8')))\n",
    "\n",
    "print(dataset.shape)\n",
    "\n",
    "dataset.columns.values"
   ]
  },
  {
   "cell_type": "markdown",
   "metadata": {},
   "source": [
    "The full data has 45,222 observations. It has 11 descriptive features and the \"income_status\" target feature. "
   ]
  },
  {
   "cell_type": "markdown",
   "metadata": {},
   "source": [
    "## Checking for Missing Values\n",
    "\n",
    "Let's make sure we do not have any missing values."
   ]
  },
  {
   "cell_type": "code",
   "execution_count": 2,
   "metadata": {},
   "outputs": [
    {
     "data": {
      "text/plain": [
       "age               0\n",
       "workclass         0\n",
       "education_num     0\n",
       "marital_status    0\n",
       "occupation        0\n",
       "relationship      0\n",
       "race              0\n",
       "gender            0\n",
       "hours_per_week    0\n",
       "native_country    0\n",
       "capital           0\n",
       "income_status     0\n",
       "dtype: int64"
      ]
     },
     "execution_count": 2,
     "metadata": {},
     "output_type": "execute_result"
    }
   ],
   "source": [
    "dataset.isna().sum()"
   ]
  },
  {
   "cell_type": "markdown",
   "metadata": {},
   "source": [
    "Let's have a look at 5 randomly selected rows in this raw dataset."
   ]
  },
  {
   "cell_type": "code",
   "execution_count": 3,
   "metadata": {},
   "outputs": [
    {
     "data": {
      "text/html": [
       "<div>\n",
       "<style scoped>\n",
       "    .dataframe tbody tr th:only-of-type {\n",
       "        vertical-align: middle;\n",
       "    }\n",
       "\n",
       "    .dataframe tbody tr th {\n",
       "        vertical-align: top;\n",
       "    }\n",
       "\n",
       "    .dataframe thead th {\n",
       "        text-align: right;\n",
       "    }\n",
       "</style>\n",
       "<table border=\"1\" class=\"dataframe\">\n",
       "  <thead>\n",
       "    <tr style=\"text-align: right;\">\n",
       "      <th></th>\n",
       "      <th>age</th>\n",
       "      <th>workclass</th>\n",
       "      <th>education_num</th>\n",
       "      <th>marital_status</th>\n",
       "      <th>occupation</th>\n",
       "      <th>relationship</th>\n",
       "      <th>race</th>\n",
       "      <th>gender</th>\n",
       "      <th>hours_per_week</th>\n",
       "      <th>native_country</th>\n",
       "      <th>capital</th>\n",
       "      <th>income_status</th>\n",
       "    </tr>\n",
       "  </thead>\n",
       "  <tbody>\n",
       "    <tr>\n",
       "      <th>29270</th>\n",
       "      <td>40</td>\n",
       "      <td>private</td>\n",
       "      <td>10</td>\n",
       "      <td>never_married</td>\n",
       "      <td>exec_managerial</td>\n",
       "      <td>unmarried</td>\n",
       "      <td>white</td>\n",
       "      <td>female</td>\n",
       "      <td>40</td>\n",
       "      <td>united_states</td>\n",
       "      <td>0</td>\n",
       "      <td>&lt;=50k</td>\n",
       "    </tr>\n",
       "    <tr>\n",
       "      <th>25610</th>\n",
       "      <td>24</td>\n",
       "      <td>state_gov</td>\n",
       "      <td>13</td>\n",
       "      <td>never_married</td>\n",
       "      <td>prof_specialty</td>\n",
       "      <td>not_in_family</td>\n",
       "      <td>white</td>\n",
       "      <td>female</td>\n",
       "      <td>20</td>\n",
       "      <td>united_states</td>\n",
       "      <td>0</td>\n",
       "      <td>&lt;=50k</td>\n",
       "    </tr>\n",
       "    <tr>\n",
       "      <th>19125</th>\n",
       "      <td>38</td>\n",
       "      <td>self_emp_not_inc</td>\n",
       "      <td>9</td>\n",
       "      <td>married_civ_spouse</td>\n",
       "      <td>handlers_cleaners</td>\n",
       "      <td>husband</td>\n",
       "      <td>white</td>\n",
       "      <td>male</td>\n",
       "      <td>40</td>\n",
       "      <td>united_states</td>\n",
       "      <td>0</td>\n",
       "      <td>&gt;50k</td>\n",
       "    </tr>\n",
       "    <tr>\n",
       "      <th>43423</th>\n",
       "      <td>43</td>\n",
       "      <td>self_emp_not_inc</td>\n",
       "      <td>9</td>\n",
       "      <td>married_civ_spouse</td>\n",
       "      <td>adm_clerical</td>\n",
       "      <td>wife</td>\n",
       "      <td>white</td>\n",
       "      <td>female</td>\n",
       "      <td>15</td>\n",
       "      <td>united_states</td>\n",
       "      <td>0</td>\n",
       "      <td>&lt;=50k</td>\n",
       "    </tr>\n",
       "    <tr>\n",
       "      <th>14464</th>\n",
       "      <td>37</td>\n",
       "      <td>local_gov</td>\n",
       "      <td>15</td>\n",
       "      <td>married_civ_spouse</td>\n",
       "      <td>prof_specialty</td>\n",
       "      <td>husband</td>\n",
       "      <td>white</td>\n",
       "      <td>male</td>\n",
       "      <td>60</td>\n",
       "      <td>united_states</td>\n",
       "      <td>0</td>\n",
       "      <td>&gt;50k</td>\n",
       "    </tr>\n",
       "  </tbody>\n",
       "</table>\n",
       "</div>"
      ],
      "text/plain": [
       "       age         workclass  education_num      marital_status  \\\n",
       "29270   40           private             10       never_married   \n",
       "25610   24         state_gov             13       never_married   \n",
       "19125   38  self_emp_not_inc              9  married_civ_spouse   \n",
       "43423   43  self_emp_not_inc              9  married_civ_spouse   \n",
       "14464   37         local_gov             15  married_civ_spouse   \n",
       "\n",
       "              occupation   relationship   race  gender  hours_per_week  \\\n",
       "29270    exec_managerial      unmarried  white  female              40   \n",
       "25610     prof_specialty  not_in_family  white  female              20   \n",
       "19125  handlers_cleaners        husband  white    male              40   \n",
       "43423       adm_clerical           wife  white  female              15   \n",
       "14464     prof_specialty        husband  white    male              60   \n",
       "\n",
       "      native_country  capital income_status  \n",
       "29270  united_states        0         <=50k  \n",
       "25610  united_states        0         <=50k  \n",
       "19125  united_states        0          >50k  \n",
       "43423  united_states        0         <=50k  \n",
       "14464  united_states        0          >50k  "
      ]
     },
     "execution_count": 3,
     "metadata": {},
     "output_type": "execute_result"
    }
   ],
   "source": [
    "dataset.sample(n=5, random_state=999)"
   ]
  },
  {
   "cell_type": "markdown",
   "metadata": {},
   "source": [
    "## Summary Statistics\n",
    "\n",
    "The summary statistics for the full data are shown below."
   ]
  },
  {
   "cell_type": "code",
   "execution_count": 4,
   "metadata": {},
   "outputs": [
    {
     "data": {
      "text/html": [
       "<div>\n",
       "<style scoped>\n",
       "    .dataframe tbody tr th:only-of-type {\n",
       "        vertical-align: middle;\n",
       "    }\n",
       "\n",
       "    .dataframe tbody tr th {\n",
       "        vertical-align: top;\n",
       "    }\n",
       "\n",
       "    .dataframe thead th {\n",
       "        text-align: right;\n",
       "    }\n",
       "</style>\n",
       "<table border=\"1\" class=\"dataframe\">\n",
       "  <thead>\n",
       "    <tr style=\"text-align: right;\">\n",
       "      <th></th>\n",
       "      <th>age</th>\n",
       "      <th>workclass</th>\n",
       "      <th>education_num</th>\n",
       "      <th>marital_status</th>\n",
       "      <th>occupation</th>\n",
       "      <th>relationship</th>\n",
       "      <th>race</th>\n",
       "      <th>gender</th>\n",
       "      <th>hours_per_week</th>\n",
       "      <th>native_country</th>\n",
       "      <th>capital</th>\n",
       "      <th>income_status</th>\n",
       "    </tr>\n",
       "  </thead>\n",
       "  <tbody>\n",
       "    <tr>\n",
       "      <th>count</th>\n",
       "      <td>45222.000000</td>\n",
       "      <td>45222</td>\n",
       "      <td>45222.000000</td>\n",
       "      <td>45222</td>\n",
       "      <td>45222</td>\n",
       "      <td>45222</td>\n",
       "      <td>45222</td>\n",
       "      <td>45222</td>\n",
       "      <td>45222.000000</td>\n",
       "      <td>45222</td>\n",
       "      <td>45222.000000</td>\n",
       "      <td>45222</td>\n",
       "    </tr>\n",
       "    <tr>\n",
       "      <th>unique</th>\n",
       "      <td>NaN</td>\n",
       "      <td>7</td>\n",
       "      <td>NaN</td>\n",
       "      <td>7</td>\n",
       "      <td>14</td>\n",
       "      <td>6</td>\n",
       "      <td>2</td>\n",
       "      <td>2</td>\n",
       "      <td>NaN</td>\n",
       "      <td>2</td>\n",
       "      <td>NaN</td>\n",
       "      <td>2</td>\n",
       "    </tr>\n",
       "    <tr>\n",
       "      <th>top</th>\n",
       "      <td>NaN</td>\n",
       "      <td>private</td>\n",
       "      <td>NaN</td>\n",
       "      <td>married_civ_spouse</td>\n",
       "      <td>craft_repair</td>\n",
       "      <td>husband</td>\n",
       "      <td>white</td>\n",
       "      <td>male</td>\n",
       "      <td>NaN</td>\n",
       "      <td>united_states</td>\n",
       "      <td>NaN</td>\n",
       "      <td>&lt;=50k</td>\n",
       "    </tr>\n",
       "    <tr>\n",
       "      <th>freq</th>\n",
       "      <td>NaN</td>\n",
       "      <td>33307</td>\n",
       "      <td>NaN</td>\n",
       "      <td>21055</td>\n",
       "      <td>6020</td>\n",
       "      <td>18666</td>\n",
       "      <td>38903</td>\n",
       "      <td>30527</td>\n",
       "      <td>NaN</td>\n",
       "      <td>41292</td>\n",
       "      <td>NaN</td>\n",
       "      <td>34014</td>\n",
       "    </tr>\n",
       "    <tr>\n",
       "      <th>mean</th>\n",
       "      <td>38.547941</td>\n",
       "      <td>NaN</td>\n",
       "      <td>10.118460</td>\n",
       "      <td>NaN</td>\n",
       "      <td>NaN</td>\n",
       "      <td>NaN</td>\n",
       "      <td>NaN</td>\n",
       "      <td>NaN</td>\n",
       "      <td>40.938017</td>\n",
       "      <td>NaN</td>\n",
       "      <td>1012.834925</td>\n",
       "      <td>NaN</td>\n",
       "    </tr>\n",
       "    <tr>\n",
       "      <th>std</th>\n",
       "      <td>13.217870</td>\n",
       "      <td>NaN</td>\n",
       "      <td>2.552881</td>\n",
       "      <td>NaN</td>\n",
       "      <td>NaN</td>\n",
       "      <td>NaN</td>\n",
       "      <td>NaN</td>\n",
       "      <td>NaN</td>\n",
       "      <td>12.007508</td>\n",
       "      <td>NaN</td>\n",
       "      <td>7530.315380</td>\n",
       "      <td>NaN</td>\n",
       "    </tr>\n",
       "    <tr>\n",
       "      <th>min</th>\n",
       "      <td>17.000000</td>\n",
       "      <td>NaN</td>\n",
       "      <td>1.000000</td>\n",
       "      <td>NaN</td>\n",
       "      <td>NaN</td>\n",
       "      <td>NaN</td>\n",
       "      <td>NaN</td>\n",
       "      <td>NaN</td>\n",
       "      <td>1.000000</td>\n",
       "      <td>NaN</td>\n",
       "      <td>-4356.000000</td>\n",
       "      <td>NaN</td>\n",
       "    </tr>\n",
       "    <tr>\n",
       "      <th>25%</th>\n",
       "      <td>28.000000</td>\n",
       "      <td>NaN</td>\n",
       "      <td>9.000000</td>\n",
       "      <td>NaN</td>\n",
       "      <td>NaN</td>\n",
       "      <td>NaN</td>\n",
       "      <td>NaN</td>\n",
       "      <td>NaN</td>\n",
       "      <td>40.000000</td>\n",
       "      <td>NaN</td>\n",
       "      <td>0.000000</td>\n",
       "      <td>NaN</td>\n",
       "    </tr>\n",
       "    <tr>\n",
       "      <th>50%</th>\n",
       "      <td>37.000000</td>\n",
       "      <td>NaN</td>\n",
       "      <td>10.000000</td>\n",
       "      <td>NaN</td>\n",
       "      <td>NaN</td>\n",
       "      <td>NaN</td>\n",
       "      <td>NaN</td>\n",
       "      <td>NaN</td>\n",
       "      <td>40.000000</td>\n",
       "      <td>NaN</td>\n",
       "      <td>0.000000</td>\n",
       "      <td>NaN</td>\n",
       "    </tr>\n",
       "    <tr>\n",
       "      <th>75%</th>\n",
       "      <td>47.000000</td>\n",
       "      <td>NaN</td>\n",
       "      <td>13.000000</td>\n",
       "      <td>NaN</td>\n",
       "      <td>NaN</td>\n",
       "      <td>NaN</td>\n",
       "      <td>NaN</td>\n",
       "      <td>NaN</td>\n",
       "      <td>45.000000</td>\n",
       "      <td>NaN</td>\n",
       "      <td>0.000000</td>\n",
       "      <td>NaN</td>\n",
       "    </tr>\n",
       "    <tr>\n",
       "      <th>max</th>\n",
       "      <td>90.000000</td>\n",
       "      <td>NaN</td>\n",
       "      <td>16.000000</td>\n",
       "      <td>NaN</td>\n",
       "      <td>NaN</td>\n",
       "      <td>NaN</td>\n",
       "      <td>NaN</td>\n",
       "      <td>NaN</td>\n",
       "      <td>99.000000</td>\n",
       "      <td>NaN</td>\n",
       "      <td>99999.000000</td>\n",
       "      <td>NaN</td>\n",
       "    </tr>\n",
       "  </tbody>\n",
       "</table>\n",
       "</div>"
      ],
      "text/plain": [
       "                 age workclass  education_num      marital_status  \\\n",
       "count   45222.000000     45222   45222.000000               45222   \n",
       "unique           NaN         7            NaN                   7   \n",
       "top              NaN   private            NaN  married_civ_spouse   \n",
       "freq             NaN     33307            NaN               21055   \n",
       "mean       38.547941       NaN      10.118460                 NaN   \n",
       "std        13.217870       NaN       2.552881                 NaN   \n",
       "min        17.000000       NaN       1.000000                 NaN   \n",
       "25%        28.000000       NaN       9.000000                 NaN   \n",
       "50%        37.000000       NaN      10.000000                 NaN   \n",
       "75%        47.000000       NaN      13.000000                 NaN   \n",
       "max        90.000000       NaN      16.000000                 NaN   \n",
       "\n",
       "          occupation relationship   race gender  hours_per_week  \\\n",
       "count          45222        45222  45222  45222    45222.000000   \n",
       "unique            14            6      2      2             NaN   \n",
       "top     craft_repair      husband  white   male             NaN   \n",
       "freq            6020        18666  38903  30527             NaN   \n",
       "mean             NaN          NaN    NaN    NaN       40.938017   \n",
       "std              NaN          NaN    NaN    NaN       12.007508   \n",
       "min              NaN          NaN    NaN    NaN        1.000000   \n",
       "25%              NaN          NaN    NaN    NaN       40.000000   \n",
       "50%              NaN          NaN    NaN    NaN       40.000000   \n",
       "75%              NaN          NaN    NaN    NaN       45.000000   \n",
       "max              NaN          NaN    NaN    NaN       99.000000   \n",
       "\n",
       "       native_country       capital income_status  \n",
       "count           45222  45222.000000         45222  \n",
       "unique              2           NaN             2  \n",
       "top     united_states           NaN         <=50k  \n",
       "freq            41292           NaN         34014  \n",
       "mean              NaN   1012.834925           NaN  \n",
       "std               NaN   7530.315380           NaN  \n",
       "min               NaN  -4356.000000           NaN  \n",
       "25%               NaN      0.000000           NaN  \n",
       "50%               NaN      0.000000           NaN  \n",
       "75%               NaN      0.000000           NaN  \n",
       "max               NaN  99999.000000           NaN  "
      ]
     },
     "execution_count": 4,
     "metadata": {},
     "output_type": "execute_result"
    }
   ],
   "source": [
    "dataset.describe(include='all')"
   ]
  },
  {
   "cell_type": "markdown",
   "metadata": {},
   "source": [
    "## Encoding Categorical Features\n",
    "\n",
    "Prior to modeling, it is essential to encode all categorical features (both the target feature and the descriptive features) into a set of numerical features.\n",
    "\n",
    "### Encoding the Target Feature\n",
    "We remove the \"income_status\" feature from the full dataset and call it \"target\". The rest of the features are the descriptive features which we call \"Data\"."
   ]
  },
  {
   "cell_type": "code",
   "execution_count": 5,
   "metadata": {},
   "outputs": [
    {
     "data": {
      "text/plain": [
       "<=50k    34014\n",
       ">50k     11208\n",
       "Name: income_status, dtype: int64"
      ]
     },
     "execution_count": 5,
     "metadata": {},
     "output_type": "execute_result"
    }
   ],
   "source": [
    "Data = dataset.drop(columns='income_status')\n",
    "target = dataset['income_status']\n",
    "target.value_counts()"
   ]
  },
  {
   "cell_type": "markdown",
   "metadata": {},
   "source": [
    "Let's encode the target feature so that the positive class is \">50K\" and it is encoded as \"1\"."
   ]
  },
  {
   "cell_type": "code",
   "execution_count": 6,
   "metadata": {},
   "outputs": [
    {
     "data": {
      "text/plain": [
       "<=50k    34014\n",
       ">50k     11208\n",
       "Name: income_status, dtype: int64"
      ]
     },
     "execution_count": 6,
     "metadata": {},
     "output_type": "execute_result"
    }
   ],
   "source": [
    "target = target.replace({'<=50K': 0, '>50K': 1})\n",
    "target.value_counts()"
   ]
  },
  {
   "cell_type": "markdown",
   "metadata": {},
   "source": [
    "As a side note, we observe that the classes are not quite balanced. "
   ]
  },
  {
   "cell_type": "markdown",
   "metadata": {},
   "source": [
    "### Encoding Categorical Descriptive Features\n",
    "\n",
    "Since all of the descriptive features appear to be nominal, we perform one-hot-encoding. Furthermore, since we plan on conducting feature selection, we define $q$ dummy variables for a categorical descriptive variable with $q$ levels. The exception here is that when a categorical descriptive feature has only two levels, we define a single dummy variable. Let's extract the list of categorical descriptive features."
   ]
  },
  {
   "cell_type": "code",
   "execution_count": 7,
   "metadata": {},
   "outputs": [],
   "source": [
    "categorical_cols = Data.columns[Data.dtypes==object].tolist()"
   ]
  },
  {
   "cell_type": "markdown",
   "metadata": {},
   "source": [
    "Before any transformation, the categorical features are as follows."
   ]
  },
  {
   "cell_type": "code",
   "execution_count": 8,
   "metadata": {},
   "outputs": [
    {
     "data": {
      "text/plain": [
       "['workclass',\n",
       " 'marital_status',\n",
       " 'occupation',\n",
       " 'relationship',\n",
       " 'race',\n",
       " 'gender',\n",
       " 'native_country']"
      ]
     },
     "execution_count": 8,
     "metadata": {},
     "output_type": "execute_result"
    }
   ],
   "source": [
    "categorical_cols"
   ]
  },
  {
   "cell_type": "markdown",
   "metadata": {},
   "source": [
    "The coding operation is shown below. For each two-level categorical variable, we set the `drop_first` option to `True` to encode the variable into a single column of 0 or 1. Next, we apply the `get_dummies()` function for the regular one-hot encoding for categorical features with more than 2 levels."
   ]
  },
  {
   "cell_type": "code",
   "execution_count": 9,
   "metadata": {},
   "outputs": [],
   "source": [
    "for col in categorical_cols:\n",
    "    if (Data[col].nunique() == 2):\n",
    "        Data[col] = pd.get_dummies(Data[col], drop_first=True)\n",
    "   \n",
    "# use one-hot-encoding for categorical features with >2 levels\n",
    "Data = pd.get_dummies(Data)"
   ]
  },
  {
   "cell_type": "markdown",
   "metadata": {},
   "source": [
    "After encoding, the feature set has the following columns."
   ]
  },
  {
   "cell_type": "code",
   "execution_count": 10,
   "metadata": {},
   "outputs": [
    {
     "data": {
      "text/plain": [
       "Index(['age', 'education_num', 'race', 'gender', 'hours_per_week',\n",
       "       'native_country', 'capital', 'workclass_federal_gov',\n",
       "       'workclass_local_gov', 'workclass_private', 'workclass_self_emp_inc',\n",
       "       'workclass_self_emp_not_inc', 'workclass_state_gov',\n",
       "       'workclass_without_pay', 'marital_status_divorced',\n",
       "       'marital_status_married_af_spouse', 'marital_status_married_civ_spouse',\n",
       "       'marital_status_married_spouse_absent', 'marital_status_never_married',\n",
       "       'marital_status_separated', 'marital_status_widowed',\n",
       "       'occupation_adm_clerical', 'occupation_armed_forces',\n",
       "       'occupation_craft_repair', 'occupation_exec_managerial',\n",
       "       'occupation_farming_fishing', 'occupation_handlers_cleaners',\n",
       "       'occupation_machine_op_inspct', 'occupation_other_service',\n",
       "       'occupation_priv_house_serv', 'occupation_prof_specialty',\n",
       "       'occupation_protective_serv', 'occupation_sales',\n",
       "       'occupation_tech_support', 'occupation_transport_moving',\n",
       "       'relationship_husband', 'relationship_not_in_family',\n",
       "       'relationship_other_relative', 'relationship_own_child',\n",
       "       'relationship_unmarried', 'relationship_wife'],\n",
       "      dtype='object')"
      ]
     },
     "execution_count": 10,
     "metadata": {},
     "output_type": "execute_result"
    }
   ],
   "source": [
    "Data.columns"
   ]
  },
  {
   "cell_type": "code",
   "execution_count": 11,
   "metadata": {},
   "outputs": [
    {
     "data": {
      "text/html": [
       "<div>\n",
       "<style scoped>\n",
       "    .dataframe tbody tr th:only-of-type {\n",
       "        vertical-align: middle;\n",
       "    }\n",
       "\n",
       "    .dataframe tbody tr th {\n",
       "        vertical-align: top;\n",
       "    }\n",
       "\n",
       "    .dataframe thead th {\n",
       "        text-align: right;\n",
       "    }\n",
       "</style>\n",
       "<table border=\"1\" class=\"dataframe\">\n",
       "  <thead>\n",
       "    <tr style=\"text-align: right;\">\n",
       "      <th></th>\n",
       "      <th>age</th>\n",
       "      <th>education_num</th>\n",
       "      <th>race</th>\n",
       "      <th>gender</th>\n",
       "      <th>hours_per_week</th>\n",
       "      <th>native_country</th>\n",
       "      <th>capital</th>\n",
       "      <th>workclass_federal_gov</th>\n",
       "      <th>workclass_local_gov</th>\n",
       "      <th>workclass_private</th>\n",
       "      <th>workclass_self_emp_inc</th>\n",
       "      <th>workclass_self_emp_not_inc</th>\n",
       "      <th>workclass_state_gov</th>\n",
       "      <th>workclass_without_pay</th>\n",
       "      <th>marital_status_divorced</th>\n",
       "      <th>marital_status_married_af_spouse</th>\n",
       "      <th>marital_status_married_civ_spouse</th>\n",
       "      <th>marital_status_married_spouse_absent</th>\n",
       "      <th>marital_status_never_married</th>\n",
       "      <th>marital_status_separated</th>\n",
       "      <th>marital_status_widowed</th>\n",
       "      <th>occupation_adm_clerical</th>\n",
       "      <th>occupation_armed_forces</th>\n",
       "      <th>occupation_craft_repair</th>\n",
       "      <th>occupation_exec_managerial</th>\n",
       "      <th>occupation_farming_fishing</th>\n",
       "      <th>occupation_handlers_cleaners</th>\n",
       "      <th>occupation_machine_op_inspct</th>\n",
       "      <th>occupation_other_service</th>\n",
       "      <th>occupation_priv_house_serv</th>\n",
       "      <th>occupation_prof_specialty</th>\n",
       "      <th>occupation_protective_serv</th>\n",
       "      <th>occupation_sales</th>\n",
       "      <th>occupation_tech_support</th>\n",
       "      <th>occupation_transport_moving</th>\n",
       "      <th>relationship_husband</th>\n",
       "      <th>relationship_not_in_family</th>\n",
       "      <th>relationship_other_relative</th>\n",
       "      <th>relationship_own_child</th>\n",
       "      <th>relationship_unmarried</th>\n",
       "      <th>relationship_wife</th>\n",
       "    </tr>\n",
       "  </thead>\n",
       "  <tbody>\n",
       "    <tr>\n",
       "      <th>29270</th>\n",
       "      <td>40</td>\n",
       "      <td>10</td>\n",
       "      <td>1</td>\n",
       "      <td>0</td>\n",
       "      <td>40</td>\n",
       "      <td>1</td>\n",
       "      <td>0</td>\n",
       "      <td>0</td>\n",
       "      <td>0</td>\n",
       "      <td>1</td>\n",
       "      <td>0</td>\n",
       "      <td>0</td>\n",
       "      <td>0</td>\n",
       "      <td>0</td>\n",
       "      <td>0</td>\n",
       "      <td>0</td>\n",
       "      <td>0</td>\n",
       "      <td>0</td>\n",
       "      <td>1</td>\n",
       "      <td>0</td>\n",
       "      <td>0</td>\n",
       "      <td>0</td>\n",
       "      <td>0</td>\n",
       "      <td>0</td>\n",
       "      <td>1</td>\n",
       "      <td>0</td>\n",
       "      <td>0</td>\n",
       "      <td>0</td>\n",
       "      <td>0</td>\n",
       "      <td>0</td>\n",
       "      <td>0</td>\n",
       "      <td>0</td>\n",
       "      <td>0</td>\n",
       "      <td>0</td>\n",
       "      <td>0</td>\n",
       "      <td>0</td>\n",
       "      <td>0</td>\n",
       "      <td>0</td>\n",
       "      <td>0</td>\n",
       "      <td>1</td>\n",
       "      <td>0</td>\n",
       "    </tr>\n",
       "    <tr>\n",
       "      <th>25610</th>\n",
       "      <td>24</td>\n",
       "      <td>13</td>\n",
       "      <td>1</td>\n",
       "      <td>0</td>\n",
       "      <td>20</td>\n",
       "      <td>1</td>\n",
       "      <td>0</td>\n",
       "      <td>0</td>\n",
       "      <td>0</td>\n",
       "      <td>0</td>\n",
       "      <td>0</td>\n",
       "      <td>0</td>\n",
       "      <td>1</td>\n",
       "      <td>0</td>\n",
       "      <td>0</td>\n",
       "      <td>0</td>\n",
       "      <td>0</td>\n",
       "      <td>0</td>\n",
       "      <td>1</td>\n",
       "      <td>0</td>\n",
       "      <td>0</td>\n",
       "      <td>0</td>\n",
       "      <td>0</td>\n",
       "      <td>0</td>\n",
       "      <td>0</td>\n",
       "      <td>0</td>\n",
       "      <td>0</td>\n",
       "      <td>0</td>\n",
       "      <td>0</td>\n",
       "      <td>0</td>\n",
       "      <td>1</td>\n",
       "      <td>0</td>\n",
       "      <td>0</td>\n",
       "      <td>0</td>\n",
       "      <td>0</td>\n",
       "      <td>0</td>\n",
       "      <td>1</td>\n",
       "      <td>0</td>\n",
       "      <td>0</td>\n",
       "      <td>0</td>\n",
       "      <td>0</td>\n",
       "    </tr>\n",
       "    <tr>\n",
       "      <th>19125</th>\n",
       "      <td>38</td>\n",
       "      <td>9</td>\n",
       "      <td>1</td>\n",
       "      <td>1</td>\n",
       "      <td>40</td>\n",
       "      <td>1</td>\n",
       "      <td>0</td>\n",
       "      <td>0</td>\n",
       "      <td>0</td>\n",
       "      <td>0</td>\n",
       "      <td>0</td>\n",
       "      <td>1</td>\n",
       "      <td>0</td>\n",
       "      <td>0</td>\n",
       "      <td>0</td>\n",
       "      <td>0</td>\n",
       "      <td>1</td>\n",
       "      <td>0</td>\n",
       "      <td>0</td>\n",
       "      <td>0</td>\n",
       "      <td>0</td>\n",
       "      <td>0</td>\n",
       "      <td>0</td>\n",
       "      <td>0</td>\n",
       "      <td>0</td>\n",
       "      <td>0</td>\n",
       "      <td>1</td>\n",
       "      <td>0</td>\n",
       "      <td>0</td>\n",
       "      <td>0</td>\n",
       "      <td>0</td>\n",
       "      <td>0</td>\n",
       "      <td>0</td>\n",
       "      <td>0</td>\n",
       "      <td>0</td>\n",
       "      <td>1</td>\n",
       "      <td>0</td>\n",
       "      <td>0</td>\n",
       "      <td>0</td>\n",
       "      <td>0</td>\n",
       "      <td>0</td>\n",
       "    </tr>\n",
       "    <tr>\n",
       "      <th>43423</th>\n",
       "      <td>43</td>\n",
       "      <td>9</td>\n",
       "      <td>1</td>\n",
       "      <td>0</td>\n",
       "      <td>15</td>\n",
       "      <td>1</td>\n",
       "      <td>0</td>\n",
       "      <td>0</td>\n",
       "      <td>0</td>\n",
       "      <td>0</td>\n",
       "      <td>0</td>\n",
       "      <td>1</td>\n",
       "      <td>0</td>\n",
       "      <td>0</td>\n",
       "      <td>0</td>\n",
       "      <td>0</td>\n",
       "      <td>1</td>\n",
       "      <td>0</td>\n",
       "      <td>0</td>\n",
       "      <td>0</td>\n",
       "      <td>0</td>\n",
       "      <td>1</td>\n",
       "      <td>0</td>\n",
       "      <td>0</td>\n",
       "      <td>0</td>\n",
       "      <td>0</td>\n",
       "      <td>0</td>\n",
       "      <td>0</td>\n",
       "      <td>0</td>\n",
       "      <td>0</td>\n",
       "      <td>0</td>\n",
       "      <td>0</td>\n",
       "      <td>0</td>\n",
       "      <td>0</td>\n",
       "      <td>0</td>\n",
       "      <td>0</td>\n",
       "      <td>0</td>\n",
       "      <td>0</td>\n",
       "      <td>0</td>\n",
       "      <td>0</td>\n",
       "      <td>1</td>\n",
       "    </tr>\n",
       "    <tr>\n",
       "      <th>14464</th>\n",
       "      <td>37</td>\n",
       "      <td>15</td>\n",
       "      <td>1</td>\n",
       "      <td>1</td>\n",
       "      <td>60</td>\n",
       "      <td>1</td>\n",
       "      <td>0</td>\n",
       "      <td>0</td>\n",
       "      <td>1</td>\n",
       "      <td>0</td>\n",
       "      <td>0</td>\n",
       "      <td>0</td>\n",
       "      <td>0</td>\n",
       "      <td>0</td>\n",
       "      <td>0</td>\n",
       "      <td>0</td>\n",
       "      <td>1</td>\n",
       "      <td>0</td>\n",
       "      <td>0</td>\n",
       "      <td>0</td>\n",
       "      <td>0</td>\n",
       "      <td>0</td>\n",
       "      <td>0</td>\n",
       "      <td>0</td>\n",
       "      <td>0</td>\n",
       "      <td>0</td>\n",
       "      <td>0</td>\n",
       "      <td>0</td>\n",
       "      <td>0</td>\n",
       "      <td>0</td>\n",
       "      <td>1</td>\n",
       "      <td>0</td>\n",
       "      <td>0</td>\n",
       "      <td>0</td>\n",
       "      <td>0</td>\n",
       "      <td>1</td>\n",
       "      <td>0</td>\n",
       "      <td>0</td>\n",
       "      <td>0</td>\n",
       "      <td>0</td>\n",
       "      <td>0</td>\n",
       "    </tr>\n",
       "  </tbody>\n",
       "</table>\n",
       "</div>"
      ],
      "text/plain": [
       "       age  education_num  race  gender  hours_per_week  native_country  \\\n",
       "29270   40             10     1       0              40               1   \n",
       "25610   24             13     1       0              20               1   \n",
       "19125   38              9     1       1              40               1   \n",
       "43423   43              9     1       0              15               1   \n",
       "14464   37             15     1       1              60               1   \n",
       "\n",
       "       capital  workclass_federal_gov  workclass_local_gov  workclass_private  \\\n",
       "29270        0                      0                    0                  1   \n",
       "25610        0                      0                    0                  0   \n",
       "19125        0                      0                    0                  0   \n",
       "43423        0                      0                    0                  0   \n",
       "14464        0                      0                    1                  0   \n",
       "\n",
       "       workclass_self_emp_inc  workclass_self_emp_not_inc  \\\n",
       "29270                       0                           0   \n",
       "25610                       0                           0   \n",
       "19125                       0                           1   \n",
       "43423                       0                           1   \n",
       "14464                       0                           0   \n",
       "\n",
       "       workclass_state_gov  workclass_without_pay  marital_status_divorced  \\\n",
       "29270                    0                      0                        0   \n",
       "25610                    1                      0                        0   \n",
       "19125                    0                      0                        0   \n",
       "43423                    0                      0                        0   \n",
       "14464                    0                      0                        0   \n",
       "\n",
       "       marital_status_married_af_spouse  marital_status_married_civ_spouse  \\\n",
       "29270                                 0                                  0   \n",
       "25610                                 0                                  0   \n",
       "19125                                 0                                  1   \n",
       "43423                                 0                                  1   \n",
       "14464                                 0                                  1   \n",
       "\n",
       "       marital_status_married_spouse_absent  marital_status_never_married  \\\n",
       "29270                                     0                             1   \n",
       "25610                                     0                             1   \n",
       "19125                                     0                             0   \n",
       "43423                                     0                             0   \n",
       "14464                                     0                             0   \n",
       "\n",
       "       marital_status_separated  marital_status_widowed  \\\n",
       "29270                         0                       0   \n",
       "25610                         0                       0   \n",
       "19125                         0                       0   \n",
       "43423                         0                       0   \n",
       "14464                         0                       0   \n",
       "\n",
       "       occupation_adm_clerical  occupation_armed_forces  \\\n",
       "29270                        0                        0   \n",
       "25610                        0                        0   \n",
       "19125                        0                        0   \n",
       "43423                        1                        0   \n",
       "14464                        0                        0   \n",
       "\n",
       "       occupation_craft_repair  occupation_exec_managerial  \\\n",
       "29270                        0                           1   \n",
       "25610                        0                           0   \n",
       "19125                        0                           0   \n",
       "43423                        0                           0   \n",
       "14464                        0                           0   \n",
       "\n",
       "       occupation_farming_fishing  occupation_handlers_cleaners  \\\n",
       "29270                           0                             0   \n",
       "25610                           0                             0   \n",
       "19125                           0                             1   \n",
       "43423                           0                             0   \n",
       "14464                           0                             0   \n",
       "\n",
       "       occupation_machine_op_inspct  occupation_other_service  \\\n",
       "29270                             0                         0   \n",
       "25610                             0                         0   \n",
       "19125                             0                         0   \n",
       "43423                             0                         0   \n",
       "14464                             0                         0   \n",
       "\n",
       "       occupation_priv_house_serv  occupation_prof_specialty  \\\n",
       "29270                           0                          0   \n",
       "25610                           0                          1   \n",
       "19125                           0                          0   \n",
       "43423                           0                          0   \n",
       "14464                           0                          1   \n",
       "\n",
       "       occupation_protective_serv  occupation_sales  occupation_tech_support  \\\n",
       "29270                           0                 0                        0   \n",
       "25610                           0                 0                        0   \n",
       "19125                           0                 0                        0   \n",
       "43423                           0                 0                        0   \n",
       "14464                           0                 0                        0   \n",
       "\n",
       "       occupation_transport_moving  relationship_husband  \\\n",
       "29270                            0                     0   \n",
       "25610                            0                     0   \n",
       "19125                            0                     1   \n",
       "43423                            0                     0   \n",
       "14464                            0                     1   \n",
       "\n",
       "       relationship_not_in_family  relationship_other_relative  \\\n",
       "29270                           0                            0   \n",
       "25610                           1                            0   \n",
       "19125                           0                            0   \n",
       "43423                           0                            0   \n",
       "14464                           0                            0   \n",
       "\n",
       "       relationship_own_child  relationship_unmarried  relationship_wife  \n",
       "29270                       0                       1                  0  \n",
       "25610                       0                       0                  0  \n",
       "19125                       0                       0                  0  \n",
       "43423                       0                       0                  1  \n",
       "14464                       0                       0                  0  "
      ]
     },
     "execution_count": 11,
     "metadata": {},
     "output_type": "execute_result"
    }
   ],
   "source": [
    "Data.sample(5, random_state=999)"
   ]
  },
  {
   "cell_type": "markdown",
   "metadata": {},
   "source": [
    "## Scaling of Features\n",
    "\n",
    "After encoding all the categorical features, we perform a min-max scaling of the descriptive features. But first we make a copy of the Data to keep track of column names."
   ]
  },
  {
   "cell_type": "code",
   "execution_count": 12,
   "metadata": {},
   "outputs": [],
   "source": [
    "from sklearn import preprocessing\n",
    "\n",
    "Data_df = Data.copy()\n",
    "\n",
    "Data_scaler = preprocessing.MinMaxScaler()\n",
    "Data_scaler.fit(Data)\n",
    "Data = Data_scaler.fit_transform(Data)"
   ]
  },
  {
   "cell_type": "markdown",
   "metadata": {},
   "source": [
    "Let's have another look at the descriptive features after scaling. Pay attention that the output of the scaler is a `NumPy` array, so all the column names are lost. That's why we kept a copy of Data before scaling so that we can recover the column names below. We observe below that binary features are still kept as binary after the min-max scaling."
   ]
  },
  {
   "cell_type": "code",
   "execution_count": 13,
   "metadata": {},
   "outputs": [
    {
     "data": {
      "text/html": [
       "<div>\n",
       "<style scoped>\n",
       "    .dataframe tbody tr th:only-of-type {\n",
       "        vertical-align: middle;\n",
       "    }\n",
       "\n",
       "    .dataframe tbody tr th {\n",
       "        vertical-align: top;\n",
       "    }\n",
       "\n",
       "    .dataframe thead th {\n",
       "        text-align: right;\n",
       "    }\n",
       "</style>\n",
       "<table border=\"1\" class=\"dataframe\">\n",
       "  <thead>\n",
       "    <tr style=\"text-align: right;\">\n",
       "      <th></th>\n",
       "      <th>age</th>\n",
       "      <th>education_num</th>\n",
       "      <th>race</th>\n",
       "      <th>gender</th>\n",
       "      <th>hours_per_week</th>\n",
       "      <th>native_country</th>\n",
       "      <th>capital</th>\n",
       "      <th>workclass_federal_gov</th>\n",
       "      <th>workclass_local_gov</th>\n",
       "      <th>workclass_private</th>\n",
       "      <th>workclass_self_emp_inc</th>\n",
       "      <th>workclass_self_emp_not_inc</th>\n",
       "      <th>workclass_state_gov</th>\n",
       "      <th>workclass_without_pay</th>\n",
       "      <th>marital_status_divorced</th>\n",
       "      <th>marital_status_married_af_spouse</th>\n",
       "      <th>marital_status_married_civ_spouse</th>\n",
       "      <th>marital_status_married_spouse_absent</th>\n",
       "      <th>marital_status_never_married</th>\n",
       "      <th>marital_status_separated</th>\n",
       "      <th>marital_status_widowed</th>\n",
       "      <th>occupation_adm_clerical</th>\n",
       "      <th>occupation_armed_forces</th>\n",
       "      <th>occupation_craft_repair</th>\n",
       "      <th>occupation_exec_managerial</th>\n",
       "      <th>occupation_farming_fishing</th>\n",
       "      <th>occupation_handlers_cleaners</th>\n",
       "      <th>occupation_machine_op_inspct</th>\n",
       "      <th>occupation_other_service</th>\n",
       "      <th>occupation_priv_house_serv</th>\n",
       "      <th>occupation_prof_specialty</th>\n",
       "      <th>occupation_protective_serv</th>\n",
       "      <th>occupation_sales</th>\n",
       "      <th>occupation_tech_support</th>\n",
       "      <th>occupation_transport_moving</th>\n",
       "      <th>relationship_husband</th>\n",
       "      <th>relationship_not_in_family</th>\n",
       "      <th>relationship_other_relative</th>\n",
       "      <th>relationship_own_child</th>\n",
       "      <th>relationship_unmarried</th>\n",
       "      <th>relationship_wife</th>\n",
       "    </tr>\n",
       "  </thead>\n",
       "  <tbody>\n",
       "    <tr>\n",
       "      <th>29270</th>\n",
       "      <td>0.315068</td>\n",
       "      <td>0.600000</td>\n",
       "      <td>1.0</td>\n",
       "      <td>0.0</td>\n",
       "      <td>0.397959</td>\n",
       "      <td>1.0</td>\n",
       "      <td>0.041742</td>\n",
       "      <td>0.0</td>\n",
       "      <td>0.0</td>\n",
       "      <td>1.0</td>\n",
       "      <td>0.0</td>\n",
       "      <td>0.0</td>\n",
       "      <td>0.0</td>\n",
       "      <td>0.0</td>\n",
       "      <td>0.0</td>\n",
       "      <td>0.0</td>\n",
       "      <td>0.0</td>\n",
       "      <td>0.0</td>\n",
       "      <td>1.0</td>\n",
       "      <td>0.0</td>\n",
       "      <td>0.0</td>\n",
       "      <td>0.0</td>\n",
       "      <td>0.0</td>\n",
       "      <td>0.0</td>\n",
       "      <td>1.0</td>\n",
       "      <td>0.0</td>\n",
       "      <td>0.0</td>\n",
       "      <td>0.0</td>\n",
       "      <td>0.0</td>\n",
       "      <td>0.0</td>\n",
       "      <td>0.0</td>\n",
       "      <td>0.0</td>\n",
       "      <td>0.0</td>\n",
       "      <td>0.0</td>\n",
       "      <td>0.0</td>\n",
       "      <td>0.0</td>\n",
       "      <td>0.0</td>\n",
       "      <td>0.0</td>\n",
       "      <td>0.0</td>\n",
       "      <td>1.0</td>\n",
       "      <td>0.0</td>\n",
       "    </tr>\n",
       "    <tr>\n",
       "      <th>25610</th>\n",
       "      <td>0.095890</td>\n",
       "      <td>0.800000</td>\n",
       "      <td>1.0</td>\n",
       "      <td>0.0</td>\n",
       "      <td>0.193878</td>\n",
       "      <td>1.0</td>\n",
       "      <td>0.041742</td>\n",
       "      <td>0.0</td>\n",
       "      <td>0.0</td>\n",
       "      <td>0.0</td>\n",
       "      <td>0.0</td>\n",
       "      <td>0.0</td>\n",
       "      <td>1.0</td>\n",
       "      <td>0.0</td>\n",
       "      <td>0.0</td>\n",
       "      <td>0.0</td>\n",
       "      <td>0.0</td>\n",
       "      <td>0.0</td>\n",
       "      <td>1.0</td>\n",
       "      <td>0.0</td>\n",
       "      <td>0.0</td>\n",
       "      <td>0.0</td>\n",
       "      <td>0.0</td>\n",
       "      <td>0.0</td>\n",
       "      <td>0.0</td>\n",
       "      <td>0.0</td>\n",
       "      <td>0.0</td>\n",
       "      <td>0.0</td>\n",
       "      <td>0.0</td>\n",
       "      <td>0.0</td>\n",
       "      <td>1.0</td>\n",
       "      <td>0.0</td>\n",
       "      <td>0.0</td>\n",
       "      <td>0.0</td>\n",
       "      <td>0.0</td>\n",
       "      <td>0.0</td>\n",
       "      <td>1.0</td>\n",
       "      <td>0.0</td>\n",
       "      <td>0.0</td>\n",
       "      <td>0.0</td>\n",
       "      <td>0.0</td>\n",
       "    </tr>\n",
       "    <tr>\n",
       "      <th>19125</th>\n",
       "      <td>0.287671</td>\n",
       "      <td>0.533333</td>\n",
       "      <td>1.0</td>\n",
       "      <td>1.0</td>\n",
       "      <td>0.397959</td>\n",
       "      <td>1.0</td>\n",
       "      <td>0.041742</td>\n",
       "      <td>0.0</td>\n",
       "      <td>0.0</td>\n",
       "      <td>0.0</td>\n",
       "      <td>0.0</td>\n",
       "      <td>1.0</td>\n",
       "      <td>0.0</td>\n",
       "      <td>0.0</td>\n",
       "      <td>0.0</td>\n",
       "      <td>0.0</td>\n",
       "      <td>1.0</td>\n",
       "      <td>0.0</td>\n",
       "      <td>0.0</td>\n",
       "      <td>0.0</td>\n",
       "      <td>0.0</td>\n",
       "      <td>0.0</td>\n",
       "      <td>0.0</td>\n",
       "      <td>0.0</td>\n",
       "      <td>0.0</td>\n",
       "      <td>0.0</td>\n",
       "      <td>1.0</td>\n",
       "      <td>0.0</td>\n",
       "      <td>0.0</td>\n",
       "      <td>0.0</td>\n",
       "      <td>0.0</td>\n",
       "      <td>0.0</td>\n",
       "      <td>0.0</td>\n",
       "      <td>0.0</td>\n",
       "      <td>0.0</td>\n",
       "      <td>1.0</td>\n",
       "      <td>0.0</td>\n",
       "      <td>0.0</td>\n",
       "      <td>0.0</td>\n",
       "      <td>0.0</td>\n",
       "      <td>0.0</td>\n",
       "    </tr>\n",
       "    <tr>\n",
       "      <th>43423</th>\n",
       "      <td>0.356164</td>\n",
       "      <td>0.533333</td>\n",
       "      <td>1.0</td>\n",
       "      <td>0.0</td>\n",
       "      <td>0.142857</td>\n",
       "      <td>1.0</td>\n",
       "      <td>0.041742</td>\n",
       "      <td>0.0</td>\n",
       "      <td>0.0</td>\n",
       "      <td>0.0</td>\n",
       "      <td>0.0</td>\n",
       "      <td>1.0</td>\n",
       "      <td>0.0</td>\n",
       "      <td>0.0</td>\n",
       "      <td>0.0</td>\n",
       "      <td>0.0</td>\n",
       "      <td>1.0</td>\n",
       "      <td>0.0</td>\n",
       "      <td>0.0</td>\n",
       "      <td>0.0</td>\n",
       "      <td>0.0</td>\n",
       "      <td>1.0</td>\n",
       "      <td>0.0</td>\n",
       "      <td>0.0</td>\n",
       "      <td>0.0</td>\n",
       "      <td>0.0</td>\n",
       "      <td>0.0</td>\n",
       "      <td>0.0</td>\n",
       "      <td>0.0</td>\n",
       "      <td>0.0</td>\n",
       "      <td>0.0</td>\n",
       "      <td>0.0</td>\n",
       "      <td>0.0</td>\n",
       "      <td>0.0</td>\n",
       "      <td>0.0</td>\n",
       "      <td>0.0</td>\n",
       "      <td>0.0</td>\n",
       "      <td>0.0</td>\n",
       "      <td>0.0</td>\n",
       "      <td>0.0</td>\n",
       "      <td>1.0</td>\n",
       "    </tr>\n",
       "    <tr>\n",
       "      <th>14464</th>\n",
       "      <td>0.273973</td>\n",
       "      <td>0.933333</td>\n",
       "      <td>1.0</td>\n",
       "      <td>1.0</td>\n",
       "      <td>0.602041</td>\n",
       "      <td>1.0</td>\n",
       "      <td>0.041742</td>\n",
       "      <td>0.0</td>\n",
       "      <td>1.0</td>\n",
       "      <td>0.0</td>\n",
       "      <td>0.0</td>\n",
       "      <td>0.0</td>\n",
       "      <td>0.0</td>\n",
       "      <td>0.0</td>\n",
       "      <td>0.0</td>\n",
       "      <td>0.0</td>\n",
       "      <td>1.0</td>\n",
       "      <td>0.0</td>\n",
       "      <td>0.0</td>\n",
       "      <td>0.0</td>\n",
       "      <td>0.0</td>\n",
       "      <td>0.0</td>\n",
       "      <td>0.0</td>\n",
       "      <td>0.0</td>\n",
       "      <td>0.0</td>\n",
       "      <td>0.0</td>\n",
       "      <td>0.0</td>\n",
       "      <td>0.0</td>\n",
       "      <td>0.0</td>\n",
       "      <td>0.0</td>\n",
       "      <td>1.0</td>\n",
       "      <td>0.0</td>\n",
       "      <td>0.0</td>\n",
       "      <td>0.0</td>\n",
       "      <td>0.0</td>\n",
       "      <td>1.0</td>\n",
       "      <td>0.0</td>\n",
       "      <td>0.0</td>\n",
       "      <td>0.0</td>\n",
       "      <td>0.0</td>\n",
       "      <td>0.0</td>\n",
       "    </tr>\n",
       "  </tbody>\n",
       "</table>\n",
       "</div>"
      ],
      "text/plain": [
       "            age  education_num  race  gender  hours_per_week  native_country  \\\n",
       "29270  0.315068       0.600000   1.0     0.0        0.397959             1.0   \n",
       "25610  0.095890       0.800000   1.0     0.0        0.193878             1.0   \n",
       "19125  0.287671       0.533333   1.0     1.0        0.397959             1.0   \n",
       "43423  0.356164       0.533333   1.0     0.0        0.142857             1.0   \n",
       "14464  0.273973       0.933333   1.0     1.0        0.602041             1.0   \n",
       "\n",
       "        capital  workclass_federal_gov  workclass_local_gov  \\\n",
       "29270  0.041742                    0.0                  0.0   \n",
       "25610  0.041742                    0.0                  0.0   \n",
       "19125  0.041742                    0.0                  0.0   \n",
       "43423  0.041742                    0.0                  0.0   \n",
       "14464  0.041742                    0.0                  1.0   \n",
       "\n",
       "       workclass_private  workclass_self_emp_inc  workclass_self_emp_not_inc  \\\n",
       "29270                1.0                     0.0                         0.0   \n",
       "25610                0.0                     0.0                         0.0   \n",
       "19125                0.0                     0.0                         1.0   \n",
       "43423                0.0                     0.0                         1.0   \n",
       "14464                0.0                     0.0                         0.0   \n",
       "\n",
       "       workclass_state_gov  workclass_without_pay  marital_status_divorced  \\\n",
       "29270                  0.0                    0.0                      0.0   \n",
       "25610                  1.0                    0.0                      0.0   \n",
       "19125                  0.0                    0.0                      0.0   \n",
       "43423                  0.0                    0.0                      0.0   \n",
       "14464                  0.0                    0.0                      0.0   \n",
       "\n",
       "       marital_status_married_af_spouse  marital_status_married_civ_spouse  \\\n",
       "29270                               0.0                                0.0   \n",
       "25610                               0.0                                0.0   \n",
       "19125                               0.0                                1.0   \n",
       "43423                               0.0                                1.0   \n",
       "14464                               0.0                                1.0   \n",
       "\n",
       "       marital_status_married_spouse_absent  marital_status_never_married  \\\n",
       "29270                                   0.0                           1.0   \n",
       "25610                                   0.0                           1.0   \n",
       "19125                                   0.0                           0.0   \n",
       "43423                                   0.0                           0.0   \n",
       "14464                                   0.0                           0.0   \n",
       "\n",
       "       marital_status_separated  marital_status_widowed  \\\n",
       "29270                       0.0                     0.0   \n",
       "25610                       0.0                     0.0   \n",
       "19125                       0.0                     0.0   \n",
       "43423                       0.0                     0.0   \n",
       "14464                       0.0                     0.0   \n",
       "\n",
       "       occupation_adm_clerical  occupation_armed_forces  \\\n",
       "29270                      0.0                      0.0   \n",
       "25610                      0.0                      0.0   \n",
       "19125                      0.0                      0.0   \n",
       "43423                      1.0                      0.0   \n",
       "14464                      0.0                      0.0   \n",
       "\n",
       "       occupation_craft_repair  occupation_exec_managerial  \\\n",
       "29270                      0.0                         1.0   \n",
       "25610                      0.0                         0.0   \n",
       "19125                      0.0                         0.0   \n",
       "43423                      0.0                         0.0   \n",
       "14464                      0.0                         0.0   \n",
       "\n",
       "       occupation_farming_fishing  occupation_handlers_cleaners  \\\n",
       "29270                         0.0                           0.0   \n",
       "25610                         0.0                           0.0   \n",
       "19125                         0.0                           1.0   \n",
       "43423                         0.0                           0.0   \n",
       "14464                         0.0                           0.0   \n",
       "\n",
       "       occupation_machine_op_inspct  occupation_other_service  \\\n",
       "29270                           0.0                       0.0   \n",
       "25610                           0.0                       0.0   \n",
       "19125                           0.0                       0.0   \n",
       "43423                           0.0                       0.0   \n",
       "14464                           0.0                       0.0   \n",
       "\n",
       "       occupation_priv_house_serv  occupation_prof_specialty  \\\n",
       "29270                         0.0                        0.0   \n",
       "25610                         0.0                        1.0   \n",
       "19125                         0.0                        0.0   \n",
       "43423                         0.0                        0.0   \n",
       "14464                         0.0                        1.0   \n",
       "\n",
       "       occupation_protective_serv  occupation_sales  occupation_tech_support  \\\n",
       "29270                         0.0               0.0                      0.0   \n",
       "25610                         0.0               0.0                      0.0   \n",
       "19125                         0.0               0.0                      0.0   \n",
       "43423                         0.0               0.0                      0.0   \n",
       "14464                         0.0               0.0                      0.0   \n",
       "\n",
       "       occupation_transport_moving  relationship_husband  \\\n",
       "29270                          0.0                   0.0   \n",
       "25610                          0.0                   0.0   \n",
       "19125                          0.0                   1.0   \n",
       "43423                          0.0                   0.0   \n",
       "14464                          0.0                   1.0   \n",
       "\n",
       "       relationship_not_in_family  relationship_other_relative  \\\n",
       "29270                         0.0                          0.0   \n",
       "25610                         1.0                          0.0   \n",
       "19125                         0.0                          0.0   \n",
       "43423                         0.0                          0.0   \n",
       "14464                         0.0                          0.0   \n",
       "\n",
       "       relationship_own_child  relationship_unmarried  relationship_wife  \n",
       "29270                     0.0                     1.0                0.0  \n",
       "25610                     0.0                     0.0                0.0  \n",
       "19125                     0.0                     0.0                0.0  \n",
       "43423                     0.0                     0.0                1.0  \n",
       "14464                     0.0                     0.0                0.0  "
      ]
     },
     "execution_count": 13,
     "metadata": {},
     "output_type": "execute_result"
    }
   ],
   "source": [
    "pd.DataFrame(Data, columns=Data_df.columns).sample(5, random_state=999)"
   ]
  },
  {
   "cell_type": "markdown",
   "metadata": {},
   "source": [
    "## Feature Selection & Ranking\n",
    "\n",
    "Let's have a look at the most important 10 features as selected by Random Forest Importance (RFI) in the full dataset. This is for a quick ranking of the most relevant 10 features to gain some insight into the problem at hand. During the hyperparameter tuning phase, we will include RFI as part of the pipeline and we will search over 10, 20, and the full set of 41 features to determine which number of features works best with each classifier."
   ]
  },
  {
   "cell_type": "code",
   "execution_count": 14,
   "metadata": {},
   "outputs": [
    {
     "data": {
      "text/plain": [
       "array(['age', 'capital', 'education_num', 'hours_per_week',\n",
       "       'marital_status_married_civ_spouse', 'relationship_husband',\n",
       "       'marital_status_never_married', 'occupation_exec_managerial',\n",
       "       'occupation_prof_specialty', 'race'], dtype=object)"
      ]
     },
     "execution_count": 14,
     "metadata": {},
     "output_type": "execute_result"
    }
   ],
   "source": [
    "from sklearn.ensemble import RandomForestClassifier\n",
    "\n",
    "num_features = 10\n",
    "model_rfi = RandomForestClassifier(n_estimators=100)\n",
    "model_rfi.fit(Data, target)\n",
    "fs_indices_rfi = np.argsort(model_rfi.feature_importances_)[::-1][0:num_features]\n",
    "\n",
    "best_features_rfi = Data_df.columns[fs_indices_rfi].values\n",
    "best_features_rfi"
   ]
  },
  {
   "cell_type": "code",
   "execution_count": 15,
   "metadata": {},
   "outputs": [
    {
     "data": {
      "text/plain": [
       "array([0.23795381, 0.15191308, 0.13389963, 0.11566401, 0.0814456 ,\n",
       "       0.04790061, 0.02763739, 0.02099595, 0.01534368, 0.01214637])"
      ]
     },
     "execution_count": 15,
     "metadata": {},
     "output_type": "execute_result"
    }
   ],
   "source": [
    "feature_importances_rfi = model_rfi.feature_importances_[fs_indices_rfi]\n",
    "feature_importances_rfi"
   ]
  },
  {
   "cell_type": "markdown",
   "metadata": {},
   "source": [
    "Let's visualize these importances."
   ]
  },
  {
   "cell_type": "code",
   "execution_count": 16,
   "metadata": {},
   "outputs": [],
   "source": [
    "import matplotlib.pyplot as plt\n",
    "%matplotlib inline \n",
    "%config InlineBackend.figure_format = 'retina'\n",
    "plt.style.use(\"ggplot\")\n",
    "\n",
    "def plot_imp(best_features, scores, method_name):   \n",
    "    plt.barh(best_features, scores)\n",
    "    plt.title(method_name + ' Feature Importances')\n",
    "    plt.xlabel(\"Importance\")\n",
    "    plt.ylabel(\"Features\")\n",
    "    plt.show()\n",
    "    "
   ]
  },
  {
   "cell_type": "code",
   "execution_count": 17,
   "metadata": {},
   "outputs": [
    {
     "data": {
      "image/png": "[encoded data removed]",
      "text/plain": [
       "<Figure size 432x288 with 1 Axes>"
      ]
     },
     "metadata": {
      "image/png": {
       "height": 281,
       "width": 548
      }
     },
     "output_type": "display_data"
    }
   ],
   "source": [
    "plot_imp(best_features_rfi, feature_importances_rfi, 'Random Forest')"
   ]
  },
  {
   "cell_type": "markdown",
   "metadata": {},
   "source": [
    "We observe that the most important feature is age, followed by capital, education, and hours per week."
   ]
  },
  {
   "cell_type": "markdown",
   "metadata": {},
   "source": [
    "## Data Sampling & Train-Test Splitting\n",
    "\n",
    "The original dataset has more than 45K rows, which is a lot. So, we would like to work with a small sample here with 20K rows. Thus, we will do the following:\n",
    "- Randomly select 20K rows from the full dataset.\n",
    "- Split this sample into train and test partitions with a 70:30 ratio using stratification.\n",
    "\n",
    "Pay attention here that we use `values` attribute to convert `Pandas` data frames to a `NumPy` array. You have to make absolutely sure that you **NEVER** pass `Pandas` data frames to `Scikit-Learn` functions!!! Sometimes it will work. But sometimes you will end up getting strange errors such as \"invalid key\" etc. Remember, `Scikit-Learn` works with `NumPy` arrays, not `Pandas` data frames."
   ]
  },
  {
   "cell_type": "code",
   "execution_count": 18,
   "metadata": {},
   "outputs": [
    {
     "name": "stdout",
     "output_type": "stream",
     "text": [
      "(20000, 41)\n",
      "(20000, 1)\n"
     ]
    }
   ],
   "source": [
    "n_samples = 20000\n",
    "\n",
    "Data_sample = pd.DataFrame(Data).sample(n=n_samples, random_state=8).values\n",
    "target_sample = pd.DataFrame(target).sample(n=n_samples, random_state=8).values\n",
    "\n",
    "print(Data_sample.shape)\n",
    "print(target_sample.shape)"
   ]
  },
  {
   "cell_type": "code",
   "execution_count": 19,
   "metadata": {},
   "outputs": [
    {
     "name": "stdout",
     "output_type": "stream",
     "text": [
      "(14000, 41)\n",
      "(6000, 41)\n"
     ]
    }
   ],
   "source": [
    "from sklearn.model_selection import train_test_split\n",
    "\n",
    "Data_sample_train, Data_sample_test, \\\n",
    "target_sample_train, target_sample_test = train_test_split(Data_sample, target_sample, \n",
    "                                                    test_size = 0.3, random_state=999,\n",
    "                                                    stratify = target_sample)\n",
    "\n",
    "print(Data_sample_train.shape)\n",
    "print(Data_sample_test.shape)"
   ]
  },
  {
   "cell_type": "markdown",
   "metadata": {},
   "source": [
    "## Model Evaluation Strategy\n",
    "\n",
    "So, we will train and tune our models on 14K rows of training data and we will test them on 6K rows of test data. \n",
    "\n",
    "For each model, we will use 5-fold stratified cross-validation evaluation method (without any repetitions for shorter run times) for hyperparameter tuning."
   ]
  },
  {
   "cell_type": "code",
   "execution_count": 20,
   "metadata": {},
   "outputs": [],
   "source": [
    "from sklearn.model_selection import StratifiedKFold, GridSearchCV\n",
    "\n",
    "cv_method = StratifiedKFold(n_splits=5, shuffle=True, random_state=999)"
   ]
  },
  {
   "cell_type": "markdown",
   "metadata": {},
   "source": [
    "# Hyperparameter Tuning <a class=\"anchor\" id=\"4\"></a> \n",
    "\n",
    "## K-Nearest Neighbors (KNN)"
   ]
  },
  {
   "cell_type": "markdown",
   "metadata": {},
   "source": [
    "Using `Pipeline`, we stack feature selection and grid search for KNN hyperparameter tuning via cross-validation. We will use the same `Pipeline` methodology for NB and DT.\n",
    "\n",
    "The KNN hyperparameters are as follows:\n",
    "\n",
    "* number of neighbors (`n_neighbors`) and\n",
    "* the distance metric `p`.\n",
    "\n",
    "For feature selection, we use the powerful Random Forest Importance (RFI) method with 100 estimators. A trick here is that we need a bit of coding so that we can make RFI feature selection as part of the pipeline. For this reason, we define the custom `RFIFeatureSelector()` class\n",
    "below to pass in RFI as a \"step\" to the pipeline."
   ]
  },
  {
   "cell_type": "code",
   "execution_count": 21,
   "metadata": {},
   "outputs": [],
   "source": [
    "from sklearn.base import BaseEstimator, TransformerMixin\n",
    "\n",
    "# custom function for RFI feature selection inside a pipeline\n",
    "# here we use n_estimators=100\n",
    "class RFIFeatureSelector(BaseEstimator, TransformerMixin):\n",
    "    \n",
    "    # class constructor \n",
    "    # make sure class attributes end with a \"_\"\n",
    "    # per scikit-learn convention to avoid errors\n",
    "    def __init__(self, n_features_=10):\n",
    "        self.n_features_ = n_features_\n",
    "        self.fs_indices_ = None\n",
    "\n",
    "    # override the fit function\n",
    "    def fit(self, X, y):\n",
    "        from sklearn.ensemble import RandomForestClassifier\n",
    "        from numpy import argsort\n",
    "        model_rfi = RandomForestClassifier(n_estimators=100)\n",
    "        model_rfi.fit(X, y)\n",
    "        self.fs_indices_ = argsort(model_rfi.feature_importances_)[::-1][0:self.n_features_] \n",
    "        return self \n",
    "    \n",
    "    # override the transform function\n",
    "    def transform(self, X, y=None):\n",
    "        return X[:, self.fs_indices_]\n"
   ]
  },
  {
   "cell_type": "code",
   "execution_count": 22,
   "metadata": {},
   "outputs": [],
   "source": [
    "from sklearn.pipeline import Pipeline\n",
    "from sklearn.neighbors import KNeighborsClassifier\n",
    "\n",
    "pipe_KNN = Pipeline(steps=[('rfi_fs', RFIFeatureSelector()), \n",
    "                           ('knn', KNeighborsClassifier())])\n",
    "\n",
    "params_pipe_KNN = {'rfi_fs__n_features_': [10, 20, Data.shape[1]],\n",
    "                   'knn__n_neighbors': [1, 5, 10, 15, 20],\n",
    "                   'knn__p': [1, 2]}\n",
    "\n",
    "gs_pipe_KNN = GridSearchCV(estimator=pipe_KNN, \n",
    "                           param_grid=params_pipe_KNN, \n",
    "                           cv=cv_method,\n",
    "                           refit=True,\n",
    "                           n_jobs=-2,\n",
    "                           scoring='roc_auc',\n",
    "                           verbose=1) "
   ]
  },
  {
   "cell_type": "code",
   "execution_count": 23,
   "metadata": {},
   "outputs": [
    {
     "name": "stdout",
     "output_type": "stream",
     "text": [
      "Fitting 5 folds for each of 30 candidates, totalling 150 fits\n"
     ]
    }
   ],
   "source": [
    "gs_pipe_KNN.fit(Data_sample_train, target_sample_train);"
   ]
  },
  {
   "cell_type": "code",
   "execution_count": 24,
   "metadata": {},
   "outputs": [
    {
     "data": {
      "text/plain": [
       "{'knn__n_neighbors': 20, 'knn__p': 1, 'rfi_fs__n_features_': 10}"
      ]
     },
     "execution_count": 24,
     "metadata": {},
     "output_type": "execute_result"
    }
   ],
   "source": [
    "gs_pipe_KNN.best_params_"
   ]
  },
  {
   "cell_type": "code",
   "execution_count": 25,
   "metadata": {},
   "outputs": [
    {
     "data": {
      "text/plain": [
       "0.8728304356322946"
      ]
     },
     "execution_count": 25,
     "metadata": {},
     "output_type": "execute_result"
    }
   ],
   "source": [
    "gs_pipe_KNN.best_score_"
   ]
  },
  {
   "cell_type": "markdown",
   "metadata": {},
   "source": [
    "We observe that the optimal KNN model has a mean AUC score of 0.871. The best performing KNN selected 10 features with 20 nearest neighbors and $p=1$, which is the Manhattan distance."
   ]
  },
  {
   "cell_type": "markdown",
   "metadata": {},
   "source": [
    "Even though these are the best values, let's have a look at the other combinations to see if the difference is rather significant or not. For this, we will make use of the function below to format the grid search outputs as a `Pandas` data frame."
   ]
  },
  {
   "cell_type": "code",
   "execution_count": 26,
   "metadata": {},
   "outputs": [],
   "source": [
    "# custom function to format the search results as a Pandas data frame\n",
    "def get_search_results(gs):\n",
    "\n",
    "    def model_result(scores, params):\n",
    "        scores = {'mean_score': np.mean(scores),\n",
    "             'std_score': np.std(scores),\n",
    "             'min_score': np.min(scores),\n",
    "             'max_score': np.max(scores)}\n",
    "        return pd.Series({**params,**scores})\n",
    "\n",
    "    models = []\n",
    "    scores = []\n",
    "\n",
    "    for i in range(gs.n_splits_):\n",
    "        key = f\"split{i}_test_score\"\n",
    "        r = gs.cv_results_[key]        \n",
    "        scores.append(r.reshape(-1,1))\n",
    "\n",
    "    all_scores = np.hstack(scores)\n",
    "    for p, s in zip(gs.cv_results_['params'], all_scores):\n",
    "        models.append((model_result(s, p)))\n",
    "\n",
    "    pipe_results = pd.concat(models, axis=1).T.sort_values(['mean_score'], ascending=False)\n",
    "\n",
    "    columns_first = ['mean_score', 'std_score', 'max_score', 'min_score']\n",
    "    columns = columns_first + [c for c in pipe_results.columns if c not in columns_first]\n",
    "\n",
    "    return pipe_results[columns]"
   ]
  },
  {
   "cell_type": "code",
   "execution_count": 27,
   "metadata": {},
   "outputs": [
    {
     "data": {
      "text/html": [
       "<div>\n",
       "<style scoped>\n",
       "    .dataframe tbody tr th:only-of-type {\n",
       "        vertical-align: middle;\n",
       "    }\n",
       "\n",
       "    .dataframe tbody tr th {\n",
       "        vertical-align: top;\n",
       "    }\n",
       "\n",
       "    .dataframe thead th {\n",
       "        text-align: right;\n",
       "    }\n",
       "</style>\n",
       "<table border=\"1\" class=\"dataframe\">\n",
       "  <thead>\n",
       "    <tr style=\"text-align: right;\">\n",
       "      <th></th>\n",
       "      <th>mean_score</th>\n",
       "      <th>std_score</th>\n",
       "      <th>max_score</th>\n",
       "      <th>min_score</th>\n",
       "      <th>knn__n_neighbors</th>\n",
       "      <th>knn__p</th>\n",
       "      <th>rfi_fs__n_features_</th>\n",
       "    </tr>\n",
       "  </thead>\n",
       "  <tbody>\n",
       "    <tr>\n",
       "      <th>24</th>\n",
       "      <td>0.872830</td>\n",
       "      <td>0.006693</td>\n",
       "      <td>0.883838</td>\n",
       "      <td>0.862906</td>\n",
       "      <td>20.0</td>\n",
       "      <td>1.0</td>\n",
       "      <td>10.0</td>\n",
       "    </tr>\n",
       "    <tr>\n",
       "      <th>27</th>\n",
       "      <td>0.872519</td>\n",
       "      <td>0.006716</td>\n",
       "      <td>0.882484</td>\n",
       "      <td>0.861340</td>\n",
       "      <td>20.0</td>\n",
       "      <td>2.0</td>\n",
       "      <td>10.0</td>\n",
       "    </tr>\n",
       "    <tr>\n",
       "      <th>18</th>\n",
       "      <td>0.870482</td>\n",
       "      <td>0.005291</td>\n",
       "      <td>0.879913</td>\n",
       "      <td>0.863607</td>\n",
       "      <td>15.0</td>\n",
       "      <td>1.0</td>\n",
       "      <td>10.0</td>\n",
       "    </tr>\n",
       "    <tr>\n",
       "      <th>26</th>\n",
       "      <td>0.870068</td>\n",
       "      <td>0.005555</td>\n",
       "      <td>0.878442</td>\n",
       "      <td>0.862350</td>\n",
       "      <td>20.0</td>\n",
       "      <td>1.0</td>\n",
       "      <td>41.0</td>\n",
       "    </tr>\n",
       "    <tr>\n",
       "      <th>28</th>\n",
       "      <td>0.869759</td>\n",
       "      <td>0.003203</td>\n",
       "      <td>0.873304</td>\n",
       "      <td>0.864610</td>\n",
       "      <td>20.0</td>\n",
       "      <td>2.0</td>\n",
       "      <td>20.0</td>\n",
       "    </tr>\n",
       "  </tbody>\n",
       "</table>\n",
       "</div>"
      ],
      "text/plain": [
       "    mean_score  std_score  max_score  min_score  knn__n_neighbors  knn__p  \\\n",
       "24    0.872830   0.006693   0.883838   0.862906              20.0     1.0   \n",
       "27    0.872519   0.006716   0.882484   0.861340              20.0     2.0   \n",
       "18    0.870482   0.005291   0.879913   0.863607              15.0     1.0   \n",
       "26    0.870068   0.005555   0.878442   0.862350              20.0     1.0   \n",
       "28    0.869759   0.003203   0.873304   0.864610              20.0     2.0   \n",
       "\n",
       "    rfi_fs__n_features_  \n",
       "24                 10.0  \n",
       "27                 10.0  \n",
       "18                 10.0  \n",
       "26                 41.0  \n",
       "28                 20.0  "
      ]
     },
     "execution_count": 27,
     "metadata": {},
     "output_type": "execute_result"
    }
   ],
   "source": [
    "results_KNN = get_search_results(gs_pipe_KNN)\n",
    "results_KNN.head()"
   ]
  },
  {
   "cell_type": "markdown",
   "metadata": {},
   "source": [
    "We observe that the difference between the hyperparameter combinations is not really much when conditioned on the number of features selected. Let's visualize the results of the grid search corresponding to 10 selected features."
   ]
  },
  {
   "cell_type": "code",
   "execution_count": 28,
   "metadata": {},
   "outputs": [
    {
     "data": {
      "image/png": "[encoded data removed]",
      "text/plain": [
       "<Figure size 432x288 with 1 Axes>"
      ]
     },
     "metadata": {
      "image/png": {
       "height": 281,
       "width": 404
      }
     },
     "output_type": "display_data"
    }
   ],
   "source": [
    "results_KNN_10_features = results_KNN[results_KNN['rfi_fs__n_features_'] == 10.0]\n",
    "\n",
    "for i in results_KNN_10_features['knn__p'].unique():\n",
    "    temp = results_KNN_10_features[results_KNN_10_features['knn__p'] == i]\n",
    "    plt.plot(temp['knn__n_neighbors'], temp['mean_score'], marker = '.', label = i)\n",
    "    \n",
    "plt.legend(title = \"p\")\n",
    "plt.xlabel('Number of Neighbors')\n",
    "plt.ylabel(\"AUC Score\")\n",
    "plt.title(\"KNN Performance Comparison with 10 Features\")\n",
    "plt.show()"
   ]
  },
  {
   "cell_type": "markdown",
   "metadata": {},
   "source": [
    "## (Gaussian) Naive Bayes (NB)"
   ]
  },
  {
   "cell_type": "markdown",
   "metadata": {},
   "source": [
    "We implement a Gaussian Naive Bayes model.  We optimize `var_smoothing` (a variant of Laplace smoothing) as we do not have any prior information about our dataset. By default, the `var_smoothing` parameter's value is $10^{-9}$ . We conduct the grid search in the `logspace` (over the powers of 10) sourced from `NumPy`. We start with 10 and end with $10^{-3}$ with 200 different values, but we perform a random search over only 20 different values (for shorter run times). Since NB requires each descriptive feature to follow a Gaussian distribution, we first perform a power transformation on the input data before model fitting."
   ]
  },
  {
   "cell_type": "code",
   "execution_count": 29,
   "metadata": {},
   "outputs": [],
   "source": [
    "from sklearn.preprocessing import PowerTransformer\n",
    "Data_sample_train_transformed = PowerTransformer().fit_transform(Data_sample_train)"
   ]
  },
  {
   "cell_type": "code",
   "execution_count": 30,
   "metadata": {},
   "outputs": [
    {
     "name": "stdout",
     "output_type": "stream",
     "text": [
      "Fitting 5 folds for each of 20 candidates, totalling 100 fits\n"
     ]
    }
   ],
   "source": [
    "from sklearn.naive_bayes import GaussianNB\n",
    "from sklearn.model_selection import RandomizedSearchCV\n",
    "\n",
    "pipe_NB = Pipeline([('rfi_fs', RFIFeatureSelector()), \n",
    "                     ('nb', GaussianNB())])\n",
    "\n",
    "params_pipe_NB = {'rfi_fs__n_features_': [10, 20, Data.shape[1]],\n",
    "                  'nb__var_smoothing': np.logspace(1,-3, num=200)}\n",
    "\n",
    "n_iter_search = 20\n",
    "gs_pipe_NB = RandomizedSearchCV(estimator=pipe_NB, \n",
    "                          param_distributions=params_pipe_NB, \n",
    "                          cv=cv_method,\n",
    "                          refit=True,\n",
    "                          n_jobs=-2,\n",
    "                          scoring='roc_auc',\n",
    "                          n_iter=n_iter_search,\n",
    "                          verbose=1) \n",
    "\n",
    "gs_pipe_NB.fit(Data_sample_train_transformed, target_sample_train);"
   ]
  },
  {
   "cell_type": "code",
   "execution_count": 31,
   "metadata": {},
   "outputs": [
    {
     "data": {
      "text/plain": [
       "{'rfi_fs__n_features_': 10, 'nb__var_smoothing': 0.41026581058271927}"
      ]
     },
     "execution_count": 31,
     "metadata": {},
     "output_type": "execute_result"
    }
   ],
   "source": [
    "gs_pipe_NB.best_params_"
   ]
  },
  {
   "cell_type": "code",
   "execution_count": 32,
   "metadata": {},
   "outputs": [
    {
     "data": {
      "text/plain": [
       "0.8787019987854482"
      ]
     },
     "execution_count": 32,
     "metadata": {},
     "output_type": "execute_result"
    }
   ],
   "source": [
    "gs_pipe_NB.best_score_"
   ]
  },
  {
   "cell_type": "markdown",
   "metadata": {},
   "source": [
    "The optimal NB yiels an AUC score of 0.878 (with 10 features) - slightly higher than that of KNN. At this point, we cannot conclude NB outperforms KNN. For this conclusion, we will have to perform a paired t-test on the test data as discussed further below."
   ]
  },
  {
   "cell_type": "code",
   "execution_count": 33,
   "metadata": {},
   "outputs": [
    {
     "data": {
      "text/html": [
       "<div>\n",
       "<style scoped>\n",
       "    .dataframe tbody tr th:only-of-type {\n",
       "        vertical-align: middle;\n",
       "    }\n",
       "\n",
       "    .dataframe tbody tr th {\n",
       "        vertical-align: top;\n",
       "    }\n",
       "\n",
       "    .dataframe thead th {\n",
       "        text-align: right;\n",
       "    }\n",
       "</style>\n",
       "<table border=\"1\" class=\"dataframe\">\n",
       "  <thead>\n",
       "    <tr style=\"text-align: right;\">\n",
       "      <th></th>\n",
       "      <th>mean_score</th>\n",
       "      <th>std_score</th>\n",
       "      <th>max_score</th>\n",
       "      <th>min_score</th>\n",
       "      <th>rfi_fs__n_features_</th>\n",
       "      <th>nb__var_smoothing</th>\n",
       "    </tr>\n",
       "  </thead>\n",
       "  <tbody>\n",
       "    <tr>\n",
       "      <th>15</th>\n",
       "      <td>0.878702</td>\n",
       "      <td>0.003087</td>\n",
       "      <td>0.882465</td>\n",
       "      <td>0.873179</td>\n",
       "      <td>10.0</td>\n",
       "      <td>0.410266</td>\n",
       "    </tr>\n",
       "    <tr>\n",
       "      <th>13</th>\n",
       "      <td>0.876233</td>\n",
       "      <td>0.002370</td>\n",
       "      <td>0.879485</td>\n",
       "      <td>0.874009</td>\n",
       "      <td>20.0</td>\n",
       "      <td>1.644676</td>\n",
       "    </tr>\n",
       "    <tr>\n",
       "      <th>17</th>\n",
       "      <td>0.875310</td>\n",
       "      <td>0.003366</td>\n",
       "      <td>0.878930</td>\n",
       "      <td>0.870007</td>\n",
       "      <td>20.0</td>\n",
       "      <td>2.171118</td>\n",
       "    </tr>\n",
       "    <tr>\n",
       "      <th>16</th>\n",
       "      <td>0.874829</td>\n",
       "      <td>0.004000</td>\n",
       "      <td>0.879140</td>\n",
       "      <td>0.868294</td>\n",
       "      <td>20.0</td>\n",
       "      <td>1.135733</td>\n",
       "    </tr>\n",
       "    <tr>\n",
       "      <th>4</th>\n",
       "      <td>0.874672</td>\n",
       "      <td>0.002811</td>\n",
       "      <td>0.878034</td>\n",
       "      <td>0.870611</td>\n",
       "      <td>10.0</td>\n",
       "      <td>0.030721</td>\n",
       "    </tr>\n",
       "  </tbody>\n",
       "</table>\n",
       "</div>"
      ],
      "text/plain": [
       "    mean_score  std_score  max_score  min_score  rfi_fs__n_features_  \\\n",
       "15    0.878702   0.003087   0.882465   0.873179                 10.0   \n",
       "13    0.876233   0.002370   0.879485   0.874009                 20.0   \n",
       "17    0.875310   0.003366   0.878930   0.870007                 20.0   \n",
       "16    0.874829   0.004000   0.879140   0.868294                 20.0   \n",
       "4     0.874672   0.002811   0.878034   0.870611                 10.0   \n",
       "\n",
       "    nb__var_smoothing  \n",
       "15           0.410266  \n",
       "13           1.644676  \n",
       "17           2.171118  \n",
       "16           1.135733  \n",
       "4            0.030721  "
      ]
     },
     "execution_count": 33,
     "metadata": {},
     "output_type": "execute_result"
    }
   ],
   "source": [
    "results_NB = get_search_results(gs_pipe_NB)\n",
    "results_NB.head()"
   ]
  },
  {
   "cell_type": "markdown",
   "metadata": {},
   "source": [
    "Let's visualize the search results."
   ]
  },
  {
   "cell_type": "code",
   "execution_count": 34,
   "metadata": {},
   "outputs": [
    {
     "data": {
      "image/png": "[encoded data removed]",
      "text/plain": [
       "<Figure size 432x288 with 1 Axes>"
      ]
     },
     "metadata": {
      "image/png": {
       "height": 281,
       "width": 406
      }
     },
     "output_type": "display_data"
    }
   ],
   "source": [
    "results_NB_10_features = results_NB[results_NB['rfi_fs__n_features_'] == 10.0].sort_values('nb__var_smoothing')\n",
    "\n",
    "plt.plot(results_NB_10_features['nb__var_smoothing'], results_NB_10_features['mean_score'], marker = '.', label = i)    \n",
    "plt.xlabel('Var. Smoothing')\n",
    "plt.ylabel(\"AUC Score\")\n",
    "plt.title(\"NB Performance Comparison with 10 Features\")\n",
    "plt.show()"
   ]
  },
  {
   "cell_type": "markdown",
   "metadata": {},
   "source": [
    "## Decision Trees (DT)"
   ]
  },
  {
   "cell_type": "markdown",
   "metadata": {},
   "source": [
    "We build a DT using gini index to maximize information gain. We aim to determine the optimal combinations of maximum depth (`max_depth`) and minimum sample split (`min_samples_split`)."
   ]
  },
  {
   "cell_type": "code",
   "execution_count": 35,
   "metadata": {},
   "outputs": [
    {
     "name": "stdout",
     "output_type": "stream",
     "text": [
      "Fitting 5 folds for each of 18 candidates, totalling 90 fits\n"
     ]
    }
   ],
   "source": [
    "from sklearn.tree import DecisionTreeClassifier\n",
    "\n",
    "pipe_DT = Pipeline([('rfi_fs', RFIFeatureSelector()),\n",
    "                    ('dt', DecisionTreeClassifier(criterion='gini', random_state=111))])\n",
    "\n",
    "params_pipe_DT = {'rfi_fs__n_features_': [10, 20, Data.shape[1]],\n",
    "                  'dt__max_depth': [3, 4, 5],\n",
    "                  'dt__min_samples_split': [2, 5]}\n",
    "\n",
    "gs_pipe_DT = GridSearchCV(estimator=pipe_DT, \n",
    "                          param_grid=params_pipe_DT, \n",
    "                          cv=cv_method,\n",
    "                          refit=True,\n",
    "                          n_jobs=-2,\n",
    "                          scoring='roc_auc',\n",
    "                          verbose=1) \n",
    "\n",
    "gs_pipe_DT.fit(Data_sample_train, target_sample_train);"
   ]
  },
  {
   "cell_type": "code",
   "execution_count": 36,
   "metadata": {},
   "outputs": [
    {
     "data": {
      "text/plain": [
       "{'dt__max_depth': 5, 'dt__min_samples_split': 5, 'rfi_fs__n_features_': 41}"
      ]
     },
     "execution_count": 36,
     "metadata": {},
     "output_type": "execute_result"
    }
   ],
   "source": [
    "gs_pipe_DT.best_params_"
   ]
  },
  {
   "cell_type": "code",
   "execution_count": 37,
   "metadata": {},
   "outputs": [
    {
     "data": {
      "text/plain": [
       "0.8797544918509843"
      ]
     },
     "execution_count": 37,
     "metadata": {},
     "output_type": "execute_result"
    }
   ],
   "source": [
    "gs_pipe_DT.best_score_"
   ]
  },
  {
   "cell_type": "markdown",
   "metadata": {},
   "source": [
    "The best DT has a maximum depth of 5 and minimum split value of 2 samples with an AUC score of 0.881. A visualization of the search results is given below for 10 features."
   ]
  },
  {
   "cell_type": "code",
   "execution_count": 38,
   "metadata": {},
   "outputs": [
    {
     "data": {
      "image/png": "[encoded data removed]",
      "text/plain": [
       "<Figure size 432x288 with 1 Axes>"
      ]
     },
     "metadata": {
      "image/png": {
       "height": 281,
       "width": 400
      }
     },
     "output_type": "display_data"
    }
   ],
   "source": [
    "results_DT = get_search_results(gs_pipe_DT)\n",
    "results_DT_10_features = results_DT[results_DT['rfi_fs__n_features_'] == 10.0]\n",
    "\n",
    "\n",
    "for i in results_DT_10_features['dt__max_depth'].unique():\n",
    "    temp = results_DT_10_features[results_DT_10_features['dt__max_depth'] == i]\n",
    "    plt.plot(temp['dt__min_samples_split'], temp['mean_score'], marker = '.', label = i)\n",
    "    \n",
    "plt.legend(title = \"Max Depth\")\n",
    "plt.xlabel('Min Samples for Split')\n",
    "plt.ylabel(\"AUC Score\")\n",
    "plt.title(\"DT Performance Comparison with 10 Features\")\n",
    "plt.show()"
   ]
  },
  {
   "cell_type": "markdown",
   "metadata": {},
   "source": [
    "## Further Fine Tuning\n",
    "\n",
    "We notice that the optimal value of maximum depth hyperparameter is at the extreme end of its search space. Thus, we need to go beyond what we already tried to make sure that we are not missing out on even better values. That is, we would like to see an **\"elbow shape\"** so that we can figure out where the improvement stops. For this reason, we try a new search as below.    "
   ]
  },
  {
   "cell_type": "code",
   "execution_count": 39,
   "metadata": {},
   "outputs": [
    {
     "name": "stdout",
     "output_type": "stream",
     "text": [
      "Fitting 5 folds for each of 18 candidates, totalling 90 fits\n"
     ]
    }
   ],
   "source": [
    "params_pipe_DT2 = {'rfi_fs__n_features_': [10],\n",
    "                  'dt__max_depth': [5, 10, 15],\n",
    "                  'dt__min_samples_split': [5, 50, 100, 150, 200, 250]}\n",
    "\n",
    "gs_pipe_DT2 = GridSearchCV(estimator=pipe_DT, \n",
    "                          param_grid=params_pipe_DT2, \n",
    "                          cv=cv_method,\n",
    "                          refit=True,\n",
    "                          n_jobs=-2,\n",
    "                          scoring='roc_auc',\n",
    "                          verbose=1) \n",
    "\n",
    "gs_pipe_DT2.fit(Data_sample_train, target_sample_train);"
   ]
  },
  {
   "cell_type": "code",
   "execution_count": 40,
   "metadata": {},
   "outputs": [
    {
     "data": {
      "text/plain": [
       "{'dt__max_depth': 10, 'dt__min_samples_split': 150, 'rfi_fs__n_features_': 10}"
      ]
     },
     "execution_count": 40,
     "metadata": {},
     "output_type": "execute_result"
    }
   ],
   "source": [
    "gs_pipe_DT2.best_params_"
   ]
  },
  {
   "cell_type": "code",
   "execution_count": 41,
   "metadata": {},
   "outputs": [
    {
     "data": {
      "text/plain": [
       "0.8964530747913576"
      ]
     },
     "execution_count": 41,
     "metadata": {},
     "output_type": "execute_result"
    }
   ],
   "source": [
    "gs_pipe_DT2.best_score_"
   ]
  },
  {
   "cell_type": "markdown",
   "metadata": {},
   "source": [
    "As suspected, we can achieve slightly better results with the new search space."
   ]
  },
  {
   "cell_type": "code",
   "execution_count": 42,
   "metadata": {},
   "outputs": [
    {
     "data": {
      "text/html": [
       "<div>\n",
       "<style scoped>\n",
       "    .dataframe tbody tr th:only-of-type {\n",
       "        vertical-align: middle;\n",
       "    }\n",
       "\n",
       "    .dataframe tbody tr th {\n",
       "        vertical-align: top;\n",
       "    }\n",
       "\n",
       "    .dataframe thead th {\n",
       "        text-align: right;\n",
       "    }\n",
       "</style>\n",
       "<table border=\"1\" class=\"dataframe\">\n",
       "  <thead>\n",
       "    <tr style=\"text-align: right;\">\n",
       "      <th></th>\n",
       "      <th>mean_score</th>\n",
       "      <th>std_score</th>\n",
       "      <th>max_score</th>\n",
       "      <th>min_score</th>\n",
       "      <th>dt__max_depth</th>\n",
       "      <th>dt__min_samples_split</th>\n",
       "      <th>rfi_fs__n_features_</th>\n",
       "    </tr>\n",
       "  </thead>\n",
       "  <tbody>\n",
       "    <tr>\n",
       "      <th>9</th>\n",
       "      <td>0.896453</td>\n",
       "      <td>0.004670</td>\n",
       "      <td>0.901725</td>\n",
       "      <td>0.888091</td>\n",
       "      <td>10.0</td>\n",
       "      <td>150.0</td>\n",
       "      <td>10.0</td>\n",
       "    </tr>\n",
       "    <tr>\n",
       "      <th>10</th>\n",
       "      <td>0.895503</td>\n",
       "      <td>0.005216</td>\n",
       "      <td>0.900597</td>\n",
       "      <td>0.885468</td>\n",
       "      <td>10.0</td>\n",
       "      <td>200.0</td>\n",
       "      <td>10.0</td>\n",
       "    </tr>\n",
       "    <tr>\n",
       "      <th>11</th>\n",
       "      <td>0.895482</td>\n",
       "      <td>0.006178</td>\n",
       "      <td>0.901141</td>\n",
       "      <td>0.883781</td>\n",
       "      <td>10.0</td>\n",
       "      <td>250.0</td>\n",
       "      <td>10.0</td>\n",
       "    </tr>\n",
       "    <tr>\n",
       "      <th>8</th>\n",
       "      <td>0.895312</td>\n",
       "      <td>0.005508</td>\n",
       "      <td>0.901430</td>\n",
       "      <td>0.885672</td>\n",
       "      <td>10.0</td>\n",
       "      <td>100.0</td>\n",
       "      <td>10.0</td>\n",
       "    </tr>\n",
       "    <tr>\n",
       "      <th>7</th>\n",
       "      <td>0.895242</td>\n",
       "      <td>0.005355</td>\n",
       "      <td>0.901560</td>\n",
       "      <td>0.886628</td>\n",
       "      <td>10.0</td>\n",
       "      <td>50.0</td>\n",
       "      <td>10.0</td>\n",
       "    </tr>\n",
       "  </tbody>\n",
       "</table>\n",
       "</div>"
      ],
      "text/plain": [
       "    mean_score  std_score  max_score  min_score  dt__max_depth  \\\n",
       "9     0.896453   0.004670   0.901725   0.888091           10.0   \n",
       "10    0.895503   0.005216   0.900597   0.885468           10.0   \n",
       "11    0.895482   0.006178   0.901141   0.883781           10.0   \n",
       "8     0.895312   0.005508   0.901430   0.885672           10.0   \n",
       "7     0.895242   0.005355   0.901560   0.886628           10.0   \n",
       "\n",
       "    dt__min_samples_split  rfi_fs__n_features_  \n",
       "9                   150.0                 10.0  \n",
       "10                  200.0                 10.0  \n",
       "11                  250.0                 10.0  \n",
       "8                   100.0                 10.0  \n",
       "7                    50.0                 10.0  "
      ]
     },
     "execution_count": 42,
     "metadata": {},
     "output_type": "execute_result"
    }
   ],
   "source": [
    "results_DT = get_search_results(gs_pipe_DT2)\n",
    "results_DT.head()"
   ]
  },
  {
   "cell_type": "markdown",
   "metadata": {},
   "source": [
    "We again observe that the cross-validated AUC score difference between the hyperparameter combinations is not really much. A visualization of the new search results is shown below."
   ]
  },
  {
   "cell_type": "code",
   "execution_count": 43,
   "metadata": {},
   "outputs": [
    {
     "data": {
      "image/png": "[encoded data removed]",
      "text/plain": [
       "<Figure size 432x288 with 1 Axes>"
      ]
     },
     "metadata": {
      "image/png": {
       "height": 281,
       "width": 434
      }
     },
     "output_type": "display_data"
    }
   ],
   "source": [
    "results_DT_10_features = results_DT[results_DT['rfi_fs__n_features_'] == 10.0].sort_values('dt__min_samples_split')\n",
    "\n",
    "\n",
    "for i in results_DT_10_features['dt__max_depth'].unique():\n",
    "    temp = results_DT_10_features[results_DT_10_features['dt__max_depth'] == i]\n",
    "    plt.plot(temp['dt__min_samples_split'], temp['mean_score'], marker = '.', label = i)\n",
    "    \n",
    "plt.legend(title = \"Max Depth\")\n",
    "plt.xlabel('Min Samples for Split')\n",
    "plt.ylabel(\"AUC Score\")\n",
    "plt.title(\"DT Performance Comparison with 10 Features - Extended\")\n",
    "plt.show()"
   ]
  },
  {
   "cell_type": "markdown",
   "metadata": {},
   "source": [
    "# Performance Comparison <a class=\"anchor\" id=\"5\"></a> \n",
    "\n",
    "During the hyper-parameter tuning phase above, we used the 14K rows in our **training data** within a cross-validation framework and we determined the best hyper-parameter values for each of the three classifiers. For instance, for KNN, it turned out that the best set of hyper-parameter values is $k=100$ and $p=1$ with the best 10 features as selected by the RFI feature selection method.\n",
    "\n",
    "What we would like to do now is to **\"fit\"** each tuned classifier (with the best set of hyper-parameter values) on the 6K rows in the **test data** in a cross-validated fashion to figure out which (tuned) classifier performs the best. This way, we would be measuring performance of the tuned classifiers on data that they did not **\"see\"** previously. \n",
    "\n",
    "Since cross validation itself is a random process, we would like to perform pairwise t-tests to determine if any difference between the performance of any two (tuned) classifiers is statistically significant [1]. Specifically, we first perform 10-fold stratified cross-validation (without any repetitions) on each (tuned) classifier where we use the **same** seed in each of the three cross-validation runs. Second, we conduct a paired t-test for the AUC score between the following (tuned) classifier combinations:\n",
    "\n",
    "* KNN vs. NB,\n",
    "* KNN vs. DT, and\n",
    "* DT vs. NB.\n",
    "\n",
    "## Discussion\n",
    "\n",
    "**Machine learning is as much as art as it is science.** A proper performance comparison can be conducted in other ways (including the particular variant in here). On the other hand, what is \"proper\" depends on your objectives as well as the characteristics of the dataset you are working with. \n",
    "\n",
    "For instance, in the case where amount of data available is especially a concern (say less than a few hundred observations), you might want to use 100% of the dataset as the **training data** during the hyper-parameter tuning phase, and also use 100% of the dataset as the **test data** during the performance comparison phase (this time using a different random seed). Here, you might want to opt for, say, 5-repeated 3-fold cross-validation. Apparently, this will be rather inappropriate as you would be using the same data in both of the tuning and performance comparison phases. However, since both phases involve cross-validation, effects of overfitting shall be quite limited. In particular, you might just decide that this is an acceptable trade-off given the lack of enough observations to work with.\n",
    "\n",
    "Another popular performance comparison method calls for two **nested** cross-validation runs as follows: you resort to a train-test-split approach within an outer cross-validation framework, say 3-repeated 5-fold cross-validation, and you perform hyper-parameter tuning using a possibly different inner cross-validation scheme (say 5-fold with no repetitions). This variant is rather involved and we do not cover it in this tutorial."
   ]
  },
  {
   "cell_type": "code",
   "execution_count": 44,
   "metadata": {},
   "outputs": [
    {
     "data": {
      "text/plain": [
       "0.8711235508856541"
      ]
     },
     "execution_count": 44,
     "metadata": {},
     "output_type": "execute_result"
    }
   ],
   "source": [
    "from sklearn.model_selection import cross_val_score\n",
    "\n",
    "cv_method_ttest = StratifiedKFold(n_splits=10, shuffle=True, random_state=111)\n",
    "\n",
    "cv_results_KNN = cross_val_score(estimator=gs_pipe_KNN.best_estimator_,\n",
    "                                 X=Data_sample_test,\n",
    "                                 y=target_sample_test, \n",
    "                                 cv=cv_method_ttest, \n",
    "                                 n_jobs=-2,\n",
    "                                 scoring='roc_auc')\n",
    "cv_results_KNN.mean()"
   ]
  },
  {
   "cell_type": "code",
   "execution_count": 45,
   "metadata": {},
   "outputs": [
    {
     "data": {
      "text/plain": [
       "0.8800638715618245"
      ]
     },
     "execution_count": 45,
     "metadata": {},
     "output_type": "execute_result"
    }
   ],
   "source": [
    "Data_sample_test_transformed = PowerTransformer().fit_transform(Data_sample_test)\n",
    "\n",
    "cv_results_NB = cross_val_score(estimator=gs_pipe_NB.best_estimator_,\n",
    "                                X=Data_sample_test_transformed,\n",
    "                                y=target_sample_test, \n",
    "                                cv=cv_method_ttest, \n",
    "                                n_jobs=-2,\n",
    "                                scoring='roc_auc')\n",
    "cv_results_NB.mean()"
   ]
  },
  {
   "cell_type": "code",
   "execution_count": 46,
   "metadata": {},
   "outputs": [
    {
     "data": {
      "text/plain": [
       "0.8918782166279003"
      ]
     },
     "execution_count": 46,
     "metadata": {},
     "output_type": "execute_result"
    }
   ],
   "source": [
    "cv_results_DT = cross_val_score(estimator=gs_pipe_DT2.best_estimator_,\n",
    "                                X=Data_sample_test,\n",
    "                                y=target_sample_test, \n",
    "                                cv=cv_method_ttest, \n",
    "                                n_jobs=-2,\n",
    "                                scoring='roc_auc')\n",
    "cv_results_DT.mean()"
   ]
  },
  {
   "cell_type": "markdown",
   "metadata": {},
   "source": [
    "The above results indicate that the tuned DT classifier outperforms the other methods with a cross-validated test AUC of 0.891. However, the tuned KNN and NB classifiers are not far behind with AUC scores of 0.870 and 0.879 respectively. For this reason, we need to perform some statistical tests to check to see if this difference is indeed statistically significant.\n",
    "\n",
    "Since we fixed the random state to be the same during cross-validation, all (tuned) classifiers were fitted and then tested on exactly the same data partitions, making our results \"paired\" in a statistical sense. So, we use the `stats.ttest_rel` function from the `SciPy` module to run the following paired t-tests."
   ]
  },
  {
   "cell_type": "code",
   "execution_count": 47,
   "metadata": {},
   "outputs": [
    {
     "name": "stdout",
     "output_type": "stream",
     "text": [
      "Ttest_relResult(statistic=-2.646090325301366, pvalue=0.02664641708826104)\n",
      "Ttest_relResult(statistic=9.66686697917414, pvalue=4.740555135999103e-06)\n",
      "Ttest_relResult(statistic=2.8452710375868704, pvalue=0.019237013125055418)\n"
     ]
    }
   ],
   "source": [
    "from scipy import stats\n",
    "\n",
    "print(stats.ttest_rel(cv_results_KNN, cv_results_NB))\n",
    "print(stats.ttest_rel(cv_results_DT, cv_results_KNN))\n",
    "print(stats.ttest_rel(cv_results_DT, cv_results_NB))"
   ]
  },
  {
   "cell_type": "markdown",
   "metadata": {},
   "source": [
    "A p-value smaller than 0.05 indicates a statistically significant difference. Looking at these results, we observe that the difference between both DT/ KNN and DT/ NB pairs are indeed statistically significant (both p-values are smaller than 0.05). Thus, we conclude that at a 95% significance level, DT is statistically the best model in this competition (in terms of AUC) when compared on the **test data**."
   ]
  },
  {
   "cell_type": "markdown",
   "metadata": {},
   "source": [
    "Though we used AUC to optimize the algorithm hyper-parameters, we shall consider the following metrics to evaluate models based on the test set:\n",
    "\n",
    "* Accuracy\n",
    "* Precision\n",
    "* Recall\n",
    "* F1 Score (the harmonic average of precision and recall)\n",
    "* Confusion Matrix\n",
    "\n",
    "These metrics can be computed using `classification_report` from `sklearn.metrics`. The classification reports are shown below."
   ]
  },
  {
   "cell_type": "code",
   "execution_count": 48,
   "metadata": {},
   "outputs": [],
   "source": [
    "pred_KNN = gs_pipe_KNN.predict(Data_sample_test)"
   ]
  },
  {
   "cell_type": "code",
   "execution_count": 49,
   "metadata": {},
   "outputs": [],
   "source": [
    "Data_test_transformed = PowerTransformer().fit_transform(Data_sample_test)\n",
    "pred_NB = gs_pipe_NB.predict(Data_test_transformed)"
   ]
  },
  {
   "cell_type": "code",
   "execution_count": 50,
   "metadata": {},
   "outputs": [],
   "source": [
    "pred_DT = gs_pipe_DT2.predict(Data_sample_test)"
   ]
  },
  {
   "cell_type": "code",
   "execution_count": 51,
   "metadata": {},
   "outputs": [
    {
     "name": "stdout",
     "output_type": "stream",
     "text": [
      "\n",
      "Classification report for K-Nearest Neighbor\n",
      "              precision    recall  f1-score   support\n",
      "\n",
      "       <=50k       0.85      0.93      0.89      4471\n",
      "        >50k       0.72      0.53      0.61      1529\n",
      "\n",
      "    accuracy                           0.83      6000\n",
      "   macro avg       0.79      0.73      0.75      6000\n",
      "weighted avg       0.82      0.83      0.82      6000\n",
      "\n",
      "\n",
      "Classification report for Naive Bayes\n",
      "              precision    recall  f1-score   support\n",
      "\n",
      "       <=50k       0.90      0.85      0.87      4471\n",
      "        >50k       0.62      0.72      0.67      1529\n",
      "\n",
      "    accuracy                           0.82      6000\n",
      "   macro avg       0.76      0.79      0.77      6000\n",
      "weighted avg       0.83      0.82      0.82      6000\n",
      "\n",
      "\n",
      "Classification report for Decision Tree\n",
      "              precision    recall  f1-score   support\n",
      "\n",
      "       <=50k       0.86      0.94      0.90      4471\n",
      "        >50k       0.77      0.56      0.65      1529\n",
      "\n",
      "    accuracy                           0.85      6000\n",
      "   macro avg       0.82      0.75      0.78      6000\n",
      "weighted avg       0.84      0.85      0.84      6000\n",
      "\n"
     ]
    }
   ],
   "source": [
    "from sklearn import metrics\n",
    "print(\"\\nClassification report for K-Nearest Neighbor\") \n",
    "print(metrics.classification_report(target_sample_test, pred_KNN))\n",
    "print(\"\\nClassification report for Naive Bayes\") \n",
    "print(metrics.classification_report(target_sample_test, pred_NB))\n",
    "print(\"\\nClassification report for Decision Tree\") \n",
    "print(metrics.classification_report(target_sample_test, pred_DT))"
   ]
  },
  {
   "cell_type": "markdown",
   "metadata": {},
   "source": [
    "The confusion matrices are given below."
   ]
  },
  {
   "cell_type": "code",
   "execution_count": 52,
   "metadata": {},
   "outputs": [
    {
     "name": "stdout",
     "output_type": "stream",
     "text": [
      "\n",
      "Confusion matrix for K-Nearest Neighbor\n",
      "[[4160  311]\n",
      " [ 723  806]]\n",
      "\n",
      "Confusion matrix for Naive Bayes\n",
      "[[3790  681]\n",
      " [ 424 1105]]\n",
      "\n",
      "Confusion matrix for Decision Tree\n",
      "[[4219  252]\n",
      " [ 667  862]]\n"
     ]
    }
   ],
   "source": [
    "from sklearn import metrics\n",
    "print(\"\\nConfusion matrix for K-Nearest Neighbor\") \n",
    "print(metrics.confusion_matrix(target_sample_test, pred_KNN))\n",
    "print(\"\\nConfusion matrix for Naive Bayes\") \n",
    "print(metrics.confusion_matrix(target_sample_test, pred_NB))\n",
    "print(\"\\nConfusion matrix for Decision Tree\") \n",
    "print(metrics.confusion_matrix(target_sample_test, pred_DT))"
   ]
  },
  {
   "cell_type": "markdown",
   "metadata": {},
   "source": [
    "Suppose we are a tax agency and we would like to detect individuals earning more than USD 50K. Then we would choose recall as the performance metric, which is equivalent to the true positive rate (TPR). In this context, NB would be the best performer since it produces the highest recall score for incomes higher than USD 50K. The confusion matrices are in line with the classification reports. This is in contrast to our finding that DT is statistically the best performer when it comes to the AUC metric."
   ]
  },
  {
   "cell_type": "markdown",
   "metadata": {},
   "source": [
    "# Limitations and Proposed Solutions <a class=\"anchor\" id=\"6\"></a> \n",
    "\n",
    "Our modeling strategy has a few flaws and limitations. First, ours was a black-box approach since we preferred raw predictive performance over interpretability. In the future, we could consider a more in-depth analysis regarding the feature selection & ranking process as well as our choices for the hyper-parameter spaces.\n",
    "\n",
    "Second, we utilized a blanket power transformation on the training data when building the NB, ignoring the dummy features within the dataset. This might partially explain the poor performance of the NB when evaluated on the test set. A potential solution is to build a Gaussian NB and a Bernoulli NB separately on the numerical and dummy descriptive features respectively. Then we can compute a final prediction by multiplying predictions from each model since NB assumes inter-independence conditioned on the value of the target feature.\n",
    "\n",
    "Third, we only worked with a small subset of the full dataset for shorter run times, both for training and testing. Since data is always valuable, we could re-run our experiments with the entire data while making sure that the train and test split is performed in a proper manner.\n",
    "\n",
    "The DT classifier statistically outperforms the other two models. Therefore, we can perhaps improve it by further expanding the hyper-parameter search space by including other parameters of this classification method. Furthermore, we can consider random forests and other ensemble methods built on trees as potentially better models."
   ]
  },
  {
   "cell_type": "markdown",
   "metadata": {},
   "source": [
    "# Summary <a class=\"anchor\" id=\"7\"></a> \n",
    "\n",
    "The Decision Tree model with 10 of the best features selected by Random Forest Importance (RFI) produces the highest cross-validated AUC score on the training data. In addition, when evaluated on the test data (in a cross-validated fashion), the Decision Tree model again outperforms both Naive Bayes and k-Nearest Neighbor models with respect to AUC. However, the Naive Bayes model yields the highest recall score on the test data. We also observe that our models are not very sensitive to the number of features as selected by RFI when conditioned on the values of the hyper-parameters in general. For this reason, it seems working with 10 features is preferable to working with the full feature set, which potentially avoids overfitting and results in models that are easier to train and easier to understand."
   ]
  },
  {
   "cell_type": "markdown",
   "metadata": {},
   "source": [
    "# References\n",
    "\n",
    "* Lichman, M. (2013). UCI Machine Learning Repository: Census Income Data Set [online]. Available at\n",
    "https://archive.ics.uci.edu/ml/datasets/adult [Accessed 2021-06-14]\n"
   ]
  },
  {
   "cell_type": "markdown",
   "metadata": {},
   "source": [
    "***\n",
    "www.featureranking.com"
   ]
  }
 ],
 "metadata": {
  "kernelspec": {
   "display_name": "Python 3 (ipykernel)",
   "language": "python",
   "name": "python3"
  },
  "language_info": {
   "codemirror_mode": {
    "name": "ipython",
    "version": 3
   },
   "file_extension": ".py",
   "mimetype": "text/x-python",
   "name": "python",
   "nbconvert_exporter": "python",
   "pygments_lexer": "ipython3",
   "version": "3.8.10"
  }
 },
 "nbformat": 4,
 "nbformat_minor": 2
}
