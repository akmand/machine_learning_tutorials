{
 "cells": [
  {
   "cell_type": "markdown",
   "metadata": {},
   "source": [
    "# SK Part 3: Model Evaluation"
   ]
  },
  {
   "cell_type": "markdown",
   "metadata": {},
   "source": [
    "## Learning Objectives\n",
    "\n",
    "The objective of this tutorial is to illustrate evaluation of machine learning algorithms using various performance metrics. We shall use the following datasets as examples of binary classification, multinomial (a.k.a. multiclass) classification, and regression problems respectively:\n",
    "\n",
    "1. [Breast Cancer Wisconsin Data](https://archive.ics.uci.edu/ml/datasets/Breast+Cancer+Wisconsin+%28Diagnostic%29). The target feature is binary, i.e., if a cancer diagnosis is \"malignant\" or \"benign\".\n",
    "2. [Wine Data](https://archive.ics.uci.edu/ml/machine-learning-databases/wine/wine.data). The target feature is multinomial. It consists of three classes of wines in a particular region in Italy.\n",
    "3. [Boston Housing Data](https://archive.ics.uci.edu/ml/machine-learning-databases/housing/). The target feature is continuous, which is the house prices in Boston in 1970's."
   ]
  },
  {
   "cell_type": "markdown",
   "metadata": {},
   "source": [
    "## Table of Contents\n",
    "\n",
    "* [Why Evaluation?](#why)\n",
    "* [Evaluation Procedures](#procedures)\n",
    "* [Choosing the Right Metric(s)](#metrics)\n",
    "* [Evaluating Binary Classifiers](#classifiers)\n",
    "    - [Getting Started](#classifiers_started)\n",
    "    - [Confusion Matrix](#cmatrix)\n",
    "    - [Precision, Recall, and F1 Measures](#c_report)\n",
    "    - [Profit Matrix](#profit_matrix)\n",
    "    - [ROC Curves](#roc)\n",
    "* [Evaluating Multinomial Classifiers](#mn_classifiers)\n",
    "    - [Getting Started](#mn_classification_started)\n",
    "    - [Multinomial Evaluation Metrics](#mn_eval)\n",
    "* [Evaluating Regressors](#regression)\n",
    "    - [Getting Started](#regression_started)\n",
    "    - [Evaluating Multiple Regression Models](#regression_multiple_models)\n",
    "    - [MAE and R-Squared Metrics](#regression_metrics)\n",
    "    - [Residual Analysis](#regression_residuals)\n",
    "* [Beyond Evaluation](#beyond)\n",
    "* [Exercises](#exercises)"
   ]
  },
  {
   "cell_type": "markdown",
   "metadata": {},
   "source": [
    "## Why Evaluation? <a class=\"anchor\" id=\"why\"></a> \n",
    "\n",
    "Model evaluation is a necessary step in machine learning in order to accomplish the following:\n",
    "\n",
    "* Determine the \"best\" model\n",
    "* Estimate how the models will perform when deployed\n",
    "* Convince the end-users that the deployed model meets their needs\n",
    "\n",
    "There are two major considerations in evaluation:\n",
    "\n",
    "1. How shall we split the data for evaluation?\n",
    "2. Which metric(s) should we use for evaluation?"
   ]
  },
  {
   "cell_type": "markdown",
   "metadata": {},
   "source": [
    "## Evaluation Procedures <a class=\"anchor\" id=\"procedures\"></a> \n",
    "\n",
    "With respect to the first consideration, we can split the dataset into a training set and a test set (also known as hold-out-sampling). Then we build a machine learning model on the training set and we evaluate how well the model performs on the test set. Data splitting is crucial to avoid or at least mitigate the issue of overfitting. \n",
    "\n",
    "A more robust and methodical approach to hold-out sampling is cross-validation. Also, another extension of cross-validation is repeated cross-validation (say 3 times) where data is partitioned into 5 (or sometimes 10) equal-sized chunks multiple times and the cross-validation procedure is repeated, each time with a different partitioning of data."
   ]
  },
  {
   "cell_type": "markdown",
   "metadata": {},
   "source": [
    "## Choosing the Right Metric(s) <a class=\"anchor\" id=\"metrics\"></a> \n",
    "\n",
    "The second consideration is to choose the right metric(s), which is almost always problem-specific. Suppose the problem is a binary classification problem: either a patient is sick or healthy in a medical diagnosis setting. We want to predict a sick patient to be sick and, apparently we would never want to predict a sick patient to be healthy. However, there is no such thing as a perfect model and there is always some sort of trade-off involved. We can increase the cutoff threshold for scores to increase the chances of predicting a truly sick patient as sick, which would be increasing the true positive rate (TPR) (i.e., the recall). But there is no free lunch! Increasing TPR will probably lead to an increase in false positive rate (FPR) as well, i.e., predicting a healthy patient to be sick (a.k.a. false alarms). We discuss this issue of finding the \"sweet balance\" between TPR and FPR further below.\n",
    "\n",
    "Commonly used evaluation metrics for a binary classifier are as follows:\n",
    "\n",
    "* Simple classification accuracy,\n",
    "* Average class accuracy (using either arithmetic or harmonic mean),\n",
    "* Confusion matrix,\n",
    "* Area under ROC curve (AUC), and\n",
    "* Classification report.\n",
    "\n",
    "Some of the binary evaluation metrics can be extended to multinomial classification problems with some caveats. Meanwhile, evaluating a regressor is simpler. We do not need to adjust prediction score (in fact, we cannot). Popular metrics for regression are as follows:\n",
    "\n",
    "* Root mean squared error (RMSE),\n",
    "* R-squared ($R^2$), and \n",
    "* Mean absolute error (MAE).\n",
    "\n",
    "Please refer to `Scikit-Learn` documentation on [evaluation methods](https://scikit-learn.org/stable/modules/model_evaluation.html) for more details."
   ]
  },
  {
   "cell_type": "markdown",
   "metadata": {},
   "source": [
    "## Evaluating Binary Classifiers  <a class=\"anchor\" id=\"classifiers\"></a> \n",
    "\n",
    "### Getting Started <a class=\"anchor\" id=\"classifiers_started\"></a> \n",
    "\n",
    "Let's load the Breast Cancer Wisconsin dataset and let's split the descriptive features and the target feature into a training set and a test set by a ratio of 70:30. That is, we use 70 % of the data to build a KNN classifier and evaluate its performance using the test set. "
   ]
  },
  {
   "cell_type": "code",
   "execution_count": 1,
   "metadata": {},
   "outputs": [],
   "source": [
    "import warnings\n",
    "warnings.filterwarnings(\"ignore\")\n",
    "\n",
    "import pandas as pd\n",
    "import numpy as np\n",
    "from sklearn.model_selection import train_test_split\n",
    "from sklearn.datasets import load_breast_cancer\n",
    "from sklearn import preprocessing\n",
    "\n",
    "df = load_breast_cancer()\n",
    "Data, target = df.data, df.target\n",
    "\n",
    "Data = preprocessing.MinMaxScaler().fit_transform(Data)\n",
    "\n",
    "# target is already encoded, but we need to reverse the labels\n",
    "# so that malignant is the positive class\n",
    "target = np.where(target==0, 1, 0)\n",
    "\n",
    "D_train, D_test, t_train, t_test = train_test_split(Data, \n",
    "                                                    target, \n",
    "                                                    test_size = 0.3, \n",
    "                                                    random_state=8)"
   ]
  },
  {
   "cell_type": "markdown",
   "metadata": {},
   "source": [
    "We shall utilize cross-validation to find the optimal KNN parameters (please refer to the **SK Part 4 tutorial** for more details on hyper-parameter tuning). Here, we use a 3-repeated 5-fold stratified cross-validation on the training set. We choose accuracy as our performance metric. In `Scikit-Learn`, a performance metric is called a \"score\". The accuracy rate is defined as\n",
    "\n",
    "$$\\text{Accuracy rate} = \\frac{\\text{Number of correct predictions}}{\\text{Total predictions}}$$\n",
    "\n",
    "Note that 1 - accuracy rate is called the misclassification rate, that is, \n",
    "\n",
    "$$\\text{Misclassification rate} = \\frac{\\text{Number of incorrect predictions}}{\\text{Total predictions}}$$\n"
   ]
  },
  {
   "cell_type": "code",
   "execution_count": 2,
   "metadata": {},
   "outputs": [],
   "source": [
    "from sklearn.neighbors import KNeighborsClassifier\n",
    "from sklearn.model_selection import RepeatedStratifiedKFold, GridSearchCV\n",
    "\n",
    "cv_method = RepeatedStratifiedKFold(n_splits=5, \n",
    "                                    n_repeats=3, \n",
    "                                    random_state=8)"
   ]
  },
  {
   "cell_type": "markdown",
   "metadata": {},
   "source": [
    "Using the grid search, we determine the optimal KNN parameters."
   ]
  },
  {
   "cell_type": "code",
   "execution_count": 3,
   "metadata": {},
   "outputs": [],
   "source": [
    "model_KNN = KNeighborsClassifier()\n",
    "params_KNN = {'n_neighbors': [1, 2, 3, 4, 5, 6, 7], \n",
    "              'p': [1, 2, 5]}\n",
    "\n",
    "gs_KNN = GridSearchCV(estimator=model_KNN, \n",
    "                      param_grid=params_KNN, \n",
    "                      cv=cv_method,\n",
    "                      verbose=1, \n",
    "                      scoring='accuracy',\n",
    "                      return_train_score=True)"
   ]
  },
  {
   "cell_type": "code",
   "execution_count": 4,
   "metadata": {},
   "outputs": [
    {
     "name": "stdout",
     "output_type": "stream",
     "text": [
      "Fitting 15 folds for each of 21 candidates, totalling 315 fits\n"
     ]
    }
   ],
   "source": [
    "gs_KNN.fit(D_train, t_train);"
   ]
  },
  {
   "cell_type": "markdown",
   "metadata": {},
   "source": [
    "Let's get the predictions for the test data."
   ]
  },
  {
   "cell_type": "code",
   "execution_count": 5,
   "metadata": {},
   "outputs": [],
   "source": [
    "t_pred = gs_KNN.predict(D_test)"
   ]
  },
  {
   "cell_type": "markdown",
   "metadata": {},
   "source": [
    "Scikit Learn has a module named `metrics` which contains different performance metrics for classifers and regressors. The example below shows how to calculate accuracy score on the test data. "
   ]
  },
  {
   "cell_type": "code",
   "execution_count": 6,
   "metadata": {},
   "outputs": [
    {
     "data": {
      "text/plain": [
       "0.9649122807017544"
      ]
     },
     "execution_count": 6,
     "metadata": {},
     "output_type": "execute_result"
    }
   ],
   "source": [
    "from sklearn import metrics\n",
    "metrics.accuracy_score(t_test, t_pred)"
   ]
  },
  {
   "cell_type": "markdown",
   "metadata": {},
   "source": [
    "In general, a score function has two arguments:\n",
    "\n",
    "* `y_true`: the actual values. In our example,  `y_true = t_test` (the actual target values from the test data).\n",
    "* `y_pred`: the predicted values. In our example, `y_pred = t_pred` (the predicted value from the test data)."
   ]
  },
  {
   "cell_type": "markdown",
   "metadata": {},
   "source": [
    "### Confusion Matrix <a class=\"anchor\" id=\"cmatrix\"></a> \n",
    "\n",
    "A confusion matrix is a square matrix $M$ constructed such that $M_{i,j}$ is equal to the number of observations known to be in group $i$ but predicted to be in group $j$. For a binary classifier, \n",
    "\n",
    "* $M_{0,0}$ = True negatives (TN)\n",
    "* $M_{1,0}$ = False negative (FN)\n",
    "* $M_{1,1}$ = True positives (TP)\n",
    "* $M_{0,1}$ = False positives (FP)\n",
    "\n",
    "Above, we start the matrix index from 0 because Python indices start from 0. A confusion matrix for a binary classification problem can be shown as a table as below.\n",
    "\n",
    "| Target | Predicted Negative | Predicted Positive |\n",
    "|----|----|----|\n",
    "| Target Negative: | True Negative (TN) | False Positive (FP) |\n",
    "| Target Positive: | False Negative (FN) | True Positive (TP) |\n",
    "\n",
    "Let's calculate the confusion matrix for the KNN model."
   ]
  },
  {
   "cell_type": "code",
   "execution_count": 7,
   "metadata": {},
   "outputs": [
    {
     "data": {
      "text/plain": [
       "array([[104,   1],\n",
       "       [  5,  61]], dtype=int64)"
      ]
     },
     "execution_count": 7,
     "metadata": {},
     "output_type": "execute_result"
    }
   ],
   "source": [
    "metrics.confusion_matrix(t_test, t_pred)"
   ]
  },
  {
   "cell_type": "markdown",
   "metadata": {},
   "source": [
    "**Exercise**\n",
    "\n",
    "1. Calculate true positive rate (TPR), which is defined as TP/(TP + FN).\n",
    "2. Calculate false negative rate (FNR), which is defined as FN/(TP + FN)."
   ]
  },
  {
   "cell_type": "markdown",
   "metadata": {},
   "source": [
    "### Precision, Recall, and F1 Measures  <a class=\"anchor\" id=\"c_report\"></a> \n",
    "\n",
    "Precision, recall, and F1 measures are commonly used metrics for binary classification problems. There are two ways to obtain these measures. The first way is to use the functions from `metrics` below:\n",
    "\n",
    "* `metrics.precision_score(y_true, y_pred)`\n",
    "* `metrics.recall_score(y_true, y_pred)`\n",
    "* `metrics.f1_score(y_true, y_pred)`\n",
    "\n",
    "Another way is to use the `classification_report` which will report these measures."
   ]
  },
  {
   "cell_type": "code",
   "execution_count": 8,
   "metadata": {},
   "outputs": [
    {
     "name": "stdout",
     "output_type": "stream",
     "text": [
      "              precision    recall  f1-score   support\n",
      "\n",
      "           0       0.95      0.99      0.97       105\n",
      "           1       0.98      0.92      0.95        66\n",
      "\n",
      "    accuracy                           0.96       171\n",
      "   macro avg       0.97      0.96      0.96       171\n",
      "weighted avg       0.97      0.96      0.96       171\n",
      "\n"
     ]
    }
   ],
   "source": [
    "print(metrics.classification_report(t_test, t_pred))"
   ]
  },
  {
   "cell_type": "markdown",
   "metadata": {},
   "source": [
    "**Refresher Questions**: \n",
    "\n",
    "1. Recall is equivalent to TPR. Does the value reported by `classification_report` match with the confusion matrix?\n",
    "2. Is the F1 score reported by `classification_report` correct? Hint: F1 $ = 2\\times\\frac{\\text{precision}\\times\\text{recall}}{\\text{precision}+\\text{recall}}$"
   ]
  },
  {
   "cell_type": "markdown",
   "metadata": {},
   "source": [
    "So, is simple accuracy the correct measure in breast cancer classification? Most probably not. If you are a medical practitioner, you might want to increase **TPR** where malignant is the positive class and benign is the negative class. In `Scikit-Learn`, the positive class must be denoted by 1 and the negative class must be denoted by 0. However, in the original dataset, the target response is encoded as\n",
    "\n",
    "$$\\text{Target} = \\begin{cases}1 & \\text{ if benign }\\\\ 0 & \\text{ if malignant }\\end{cases}$$\n",
    "\n",
    "So, we need to be very careful how we define the positive and negative classes in a binary classification problem like this. For this reason, we used the `np.where()` function above to revert the labels so that the positive class is denoted by 1 and the negative class is denoted by 0. After reversing the labels, we now have\n",
    "\n",
    "$$\\text{Target} = \\begin{cases}0 & \\text{ if benign }\\\\ 1 & \\text{ if malignant }\\end{cases}$$\n",
    "\n",
    "Let's retrain a KNN model using recall (TPR) as the performance metric. "
   ]
  },
  {
   "cell_type": "code",
   "execution_count": 9,
   "metadata": {},
   "outputs": [
    {
     "name": "stdout",
     "output_type": "stream",
     "text": [
      "Fitting 15 folds for each of 21 candidates, totalling 315 fits\n"
     ]
    }
   ],
   "source": [
    "D_train, D_test, t_train, t_test = train_test_split(Data, target, test_size = 0.3, random_state=8)\n",
    "\n",
    "perf_metric = 'recall' # some other options are: accuracy, f1, roc_auc, etc.\n",
    "\n",
    "gs_KNN = GridSearchCV(estimator=model_KNN, \n",
    "                      param_grid=params_KNN, \n",
    "                      cv=cv_method,\n",
    "                      verbose=1, \n",
    "                      scoring=perf_metric,\n",
    "                      return_train_score=True)\n",
    "\n",
    "gs_KNN.fit(D_train, t_train);"
   ]
  },
  {
   "cell_type": "code",
   "execution_count": 10,
   "metadata": {},
   "outputs": [
    {
     "data": {
      "text/plain": [
       "0.9242424242424242"
      ]
     },
     "execution_count": 10,
     "metadata": {},
     "output_type": "execute_result"
    }
   ],
   "source": [
    "t_pred = gs_KNN.predict(D_test)\n",
    "metrics.recall_score(t_test, t_pred)"
   ]
  },
  {
   "cell_type": "code",
   "execution_count": 11,
   "metadata": {},
   "outputs": [
    {
     "data": {
      "text/plain": [
       "array([[104,   1],\n",
       "       [  5,  61]], dtype=int64)"
      ]
     },
     "execution_count": 11,
     "metadata": {},
     "output_type": "execute_result"
    }
   ],
   "source": [
    "metrics.confusion_matrix(t_test, t_pred)"
   ]
  },
  {
   "cell_type": "markdown",
   "metadata": {},
   "source": [
    "For this specific problem, F1 or AUC metrics can be good alternatives to accuracy or TPR since there is a mild class imbalance problem here: we have more benign classes than malignant classes (357 vs. 212 counts)."
   ]
  },
  {
   "cell_type": "markdown",
   "metadata": {},
   "source": [
    "### Profit Matrix <a class=\"anchor\" id=\"profit_matrix\"></a> \n",
    "\n",
    "In many cases, it is incorrect to treat all outcomes equally. Sometimes we need to impose asymmetric gains for correct predictions and asymmetric costs for incorrect predictions. For instance, suppose the following is our profit matrix:\n",
    "\n",
    "|  Predicted Negative  |  Predicted Positive  |\n",
    "|----|----|\n",
    "| 0 for True Negative (TN)  | -10 False Positive (FP) |\n",
    "| -50 for False Negative (FN) | 100 True Positive (TP) |\n",
    "\n",
    "Notice that we allocate more cost to false negatives than to false positives. Next we shall calculate the **overall** profit using the profit and confusion matrices. Let's create the profit matrix using `NumPy`."
   ]
  },
  {
   "cell_type": "code",
   "execution_count": 12,
   "metadata": {},
   "outputs": [],
   "source": [
    "profit_matrix = np.array([[0, -10], [-50, 100]])"
   ]
  },
  {
   "cell_type": "code",
   "execution_count": 13,
   "metadata": {},
   "outputs": [
    {
     "data": {
      "text/plain": [
       "array([[  0, -10],\n",
       "       [-50, 100]])"
      ]
     },
     "execution_count": 13,
     "metadata": {},
     "output_type": "execute_result"
    }
   ],
   "source": [
    "profit_matrix"
   ]
  },
  {
   "cell_type": "code",
   "execution_count": 14,
   "metadata": {},
   "outputs": [
    {
     "data": {
      "text/plain": [
       "array([[104,   1],\n",
       "       [  5,  61]], dtype=int64)"
      ]
     },
     "execution_count": 14,
     "metadata": {},
     "output_type": "execute_result"
    }
   ],
   "source": [
    "confusion_matrix = metrics.confusion_matrix(t_test, t_pred)\n",
    "confusion_matrix"
   ]
  },
  {
   "cell_type": "markdown",
   "metadata": {},
   "source": [
    "The overall profit matrix is calculated as element-wise multiplication of the profit and confusion matrices."
   ]
  },
  {
   "cell_type": "code",
   "execution_count": 15,
   "metadata": {},
   "outputs": [
    {
     "data": {
      "text/plain": [
       "array([[   0,  -10],\n",
       "       [-250, 6100]], dtype=int64)"
      ]
     },
     "execution_count": 15,
     "metadata": {},
     "output_type": "execute_result"
    }
   ],
   "source": [
    "overall_profit_matrix = profit_matrix*confusion_matrix\n",
    "overall_profit_matrix"
   ]
  },
  {
   "cell_type": "markdown",
   "metadata": {},
   "source": [
    "The net profit (or loss) is given by the sum of the elements of the overall profit matrix."
   ]
  },
  {
   "cell_type": "code",
   "execution_count": 16,
   "metadata": {},
   "outputs": [
    {
     "data": {
      "text/plain": [
       "5840"
      ]
     },
     "execution_count": 16,
     "metadata": {},
     "output_type": "execute_result"
    }
   ],
   "source": [
    "np.sum(overall_profit_matrix)"
   ]
  },
  {
   "cell_type": "markdown",
   "metadata": {},
   "source": [
    "### ROC Curves <a class=\"anchor\" id=\"roc\"></a> \n",
    "\n",
    "In the previous section, we saw how the TPR and TNR are calculated from a confusion matrix. As explained in Chapter 8 of our textbook, these measures are tied to the threshold used to convert probability scores to predictions. By default, `Scikit-Learn` models predict on the data based on a threshold value of 0.5. If we change the threshold, the confusion matrix will also change. For instance, as the threshold decreases, both TPR and FPR increase. The opposite holds when the threshold increases. To capture this trade-off, we use ROC (Receiver Operating Characteristic) curves. For instance, decreasing the score threshold would be moving to the right on the ROC curve. The area under the ROC curve (AUC) together with the F1 score are some of the most popular metrics for evaluating binary classifiers as they are robust to the class imbalance issue in general.\n",
    "\n",
    "In `Scikit-Learn`, a quick way to get AUC is to use `metric.roc_auc_score`. But first we will retrain the model with AUC as our performance metric."
   ]
  },
  {
   "cell_type": "code",
   "execution_count": 17,
   "metadata": {},
   "outputs": [
    {
     "name": "stdout",
     "output_type": "stream",
     "text": [
      "Fitting 15 folds for each of 21 candidates, totalling 315 fits\n"
     ]
    },
    {
     "data": {
      "text/plain": [
       "0.9573593073593074"
      ]
     },
     "execution_count": 17,
     "metadata": {},
     "output_type": "execute_result"
    }
   ],
   "source": [
    "perf_metric = 'roc_auc'\n",
    "\n",
    "gs_KNN = GridSearchCV(estimator=model_KNN, \n",
    "                      param_grid=params_KNN, \n",
    "                      cv=cv_method,\n",
    "                      verbose=1, \n",
    "                      scoring=perf_metric,\n",
    "                      return_train_score=True)\n",
    "\n",
    "gs_KNN.fit(D_train, t_train);\n",
    "\n",
    "metrics.roc_auc_score(t_test, t_pred)"
   ]
  },
  {
   "cell_type": "markdown",
   "metadata": {},
   "source": [
    "We can visualize an ROC curve by calculating prediction scores using the `predict_proba` method in `scikit-learn`."
   ]
  },
  {
   "cell_type": "code",
   "execution_count": 18,
   "metadata": {},
   "outputs": [
    {
     "data": {
      "text/plain": [
       "array([[1.        , 0.        ],\n",
       "       [1.        , 0.        ],\n",
       "       [1.        , 0.        ],\n",
       "       [1.        , 0.        ],\n",
       "       [1.        , 0.        ],\n",
       "       [1.        , 0.        ],\n",
       "       [0.85714286, 0.14285714],\n",
       "       [0.14285714, 0.85714286],\n",
       "       [1.        , 0.        ],\n",
       "       [1.        , 0.        ]])"
      ]
     },
     "execution_count": 18,
     "metadata": {},
     "output_type": "execute_result"
    }
   ],
   "source": [
    "t_prob = gs_KNN.predict_proba(D_test)\n",
    "t_prob[0:10]"
   ]
  },
  {
   "cell_type": "markdown",
   "metadata": {},
   "source": [
    "As a side note, `_proba` stands for \"probability\", which is apparently between 0 and 1. Now let's visualize the ROC curve."
   ]
  },
  {
   "cell_type": "code",
   "execution_count": 19,
   "metadata": {},
   "outputs": [
    {
     "data": {
      "text/plain": [
       "0.9735930735930736"
      ]
     },
     "execution_count": 19,
     "metadata": {},
     "output_type": "execute_result"
    }
   ],
   "source": [
    "fpr, tpr, _ = metrics.roc_curve(t_test, t_prob[:, 1])\n",
    "roc_auc = metrics.auc(fpr, tpr)\n",
    "roc_auc"
   ]
  },
  {
   "cell_type": "code",
   "execution_count": 20,
   "metadata": {},
   "outputs": [
    {
     "data": {
      "text/html": [
       "<div>\n",
       "<style scoped>\n",
       "    .dataframe tbody tr th:only-of-type {\n",
       "        vertical-align: middle;\n",
       "    }\n",
       "\n",
       "    .dataframe tbody tr th {\n",
       "        vertical-align: top;\n",
       "    }\n",
       "\n",
       "    .dataframe thead th {\n",
       "        text-align: right;\n",
       "    }\n",
       "</style>\n",
       "<table border=\"1\" class=\"dataframe\">\n",
       "  <thead>\n",
       "    <tr style=\"text-align: right;\">\n",
       "      <th></th>\n",
       "      <th>fpr</th>\n",
       "      <th>tpr</th>\n",
       "    </tr>\n",
       "  </thead>\n",
       "  <tbody>\n",
       "    <tr>\n",
       "      <th>0</th>\n",
       "      <td>0.000000</td>\n",
       "      <td>0.000000</td>\n",
       "    </tr>\n",
       "    <tr>\n",
       "      <th>1</th>\n",
       "      <td>0.000000</td>\n",
       "      <td>0.727273</td>\n",
       "    </tr>\n",
       "    <tr>\n",
       "      <th>2</th>\n",
       "      <td>0.000000</td>\n",
       "      <td>0.863636</td>\n",
       "    </tr>\n",
       "    <tr>\n",
       "      <th>3</th>\n",
       "      <td>0.009524</td>\n",
       "      <td>0.893939</td>\n",
       "    </tr>\n",
       "    <tr>\n",
       "      <th>4</th>\n",
       "      <td>0.038095</td>\n",
       "      <td>0.924242</td>\n",
       "    </tr>\n",
       "    <tr>\n",
       "      <th>5</th>\n",
       "      <td>0.076190</td>\n",
       "      <td>0.939394</td>\n",
       "    </tr>\n",
       "    <tr>\n",
       "      <th>6</th>\n",
       "      <td>0.133333</td>\n",
       "      <td>0.939394</td>\n",
       "    </tr>\n",
       "    <tr>\n",
       "      <th>7</th>\n",
       "      <td>0.247619</td>\n",
       "      <td>0.969697</td>\n",
       "    </tr>\n",
       "    <tr>\n",
       "      <th>8</th>\n",
       "      <td>1.000000</td>\n",
       "      <td>1.000000</td>\n",
       "    </tr>\n",
       "  </tbody>\n",
       "</table>\n",
       "</div>"
      ],
      "text/plain": [
       "        fpr       tpr\n",
       "0  0.000000  0.000000\n",
       "1  0.000000  0.727273\n",
       "2  0.000000  0.863636\n",
       "3  0.009524  0.893939\n",
       "4  0.038095  0.924242\n",
       "5  0.076190  0.939394\n",
       "6  0.133333  0.939394\n",
       "7  0.247619  0.969697\n",
       "8  1.000000  1.000000"
      ]
     },
     "execution_count": 20,
     "metadata": {},
     "output_type": "execute_result"
    }
   ],
   "source": [
    "import pandas as pd\n",
    "df = pd.DataFrame({'fpr': fpr, 'tpr': tpr})\n",
    "df"
   ]
  },
  {
   "cell_type": "code",
   "execution_count": 21,
   "metadata": {},
   "outputs": [
    {
     "data": {
      "image/png": "[encoded data removed]",
      "text/plain": [
       "<Figure size 432x288 with 1 Axes>"
      ]
     },
     "metadata": {
      "image/png": {
       "height": 281,
       "width": 388
      }
     },
     "output_type": "display_data"
    }
   ],
   "source": [
    "import matplotlib.pyplot as plt\n",
    "%matplotlib inline \n",
    "%config InlineBackend.figure_format = 'retina'\n",
    "plt.style.use(\"ggplot\")\n",
    "    \n",
    "ax = df.plot.line(x='fpr', y='tpr', title='ROC Curve', legend=False, marker = '.')\n",
    "plt.plot([0, 1], [0, 1], '--')\n",
    "ax.set_xlabel(\"False Postive Rate (FPR)\")\n",
    "ax.set_ylabel(\"True Positive Rate (TPR)\")\n",
    "plt.show();\n"
   ]
  },
  {
   "cell_type": "markdown",
   "metadata": {},
   "source": [
    "Our ROC curve has an \"elbow\" around FNR = 0.1 with a very high corresponding TPR. This indicates the optimized KNN model has an outstanding predictive performance!"
   ]
  },
  {
   "cell_type": "markdown",
   "metadata": {},
   "source": [
    "## Evaluating Multinomial Classifiers <a class=\"anchor\" id=\"mn_classifiers\"></a> \n",
    "\n",
    "Multinomial classification refers to prediction problems where the target feature is multinomial (a.k.a. multiclass). That is, the target feature is categorical with at least three different levels. For multinomial classification illustration, we use the [Wine Data](https://archive.ics.uci.edu/ml/machine-learning-databases/wine/wine.data). The target feature refers to three different classes of wines in a particular region in Italy. Although multinomial classification is a generalization of the binary case, we cannot use the following binary metrics to evaluate a multinomial classifier:\n",
    "\n",
    "* `metrics.roc_auc_score`.\n",
    "* `metrics.average_precision_score`\n",
    "\n",
    "Some other metrics can be applied to multinomial targets, but they require an \"average\" parameter as discussed below."
   ]
  },
  {
   "cell_type": "markdown",
   "metadata": {},
   "source": [
    "### Getting Started  <a class=\"anchor\" id=\"mn_classification_started\"></a> \n",
    "\n",
    "Let's load up the wine data and split it into 70% training and 30% test data. We shall use 3-repeated 5-fold cross-validation to determine optimal hyperparameters of a KNN model using the training set. Then we shall evaluate the model's performance on the test set."
   ]
  },
  {
   "cell_type": "code",
   "execution_count": 22,
   "metadata": {},
   "outputs": [],
   "source": [
    "from sklearn.datasets import load_wine\n",
    "\n",
    "wine = load_wine()\n",
    "Data, target = wine.data, wine.target"
   ]
  },
  {
   "cell_type": "markdown",
   "metadata": {},
   "source": [
    "Let's check class counts."
   ]
  },
  {
   "cell_type": "code",
   "execution_count": 23,
   "metadata": {},
   "outputs": [
    {
     "data": {
      "text/plain": [
       "(array([0, 1, 2]), array([59, 71, 48], dtype=int64))"
      ]
     },
     "execution_count": 23,
     "metadata": {},
     "output_type": "execute_result"
    }
   ],
   "source": [
    "np.unique(wine.target, return_counts = True)"
   ]
  },
  {
   "cell_type": "markdown",
   "metadata": {},
   "source": [
    "We shall optimize the KNN hyperparameters based on the simple accuracy score. "
   ]
  },
  {
   "cell_type": "code",
   "execution_count": 24,
   "metadata": {},
   "outputs": [
    {
     "name": "stdout",
     "output_type": "stream",
     "text": [
      "Fitting 15 folds for each of 18 candidates, totalling 270 fits\n"
     ]
    }
   ],
   "source": [
    "D_train, D_test, t_train, t_test = train_test_split(Data, \n",
    "                                                    target, \n",
    "                                                    test_size=0.3, \n",
    "                                                    stratify=target,\n",
    "                                                    random_state=8)\n",
    "\n",
    "model_KNN = KNeighborsClassifier()\n",
    "params_KNN = {'n_neighbors': [2, 3, 4, 5, 6, 7], \n",
    "              'p': [1, 2, 5]}\n",
    "\n",
    "gs_KNN = GridSearchCV(estimator=model_KNN, \n",
    "                      param_grid=params_KNN, \n",
    "                      cv=cv_method,\n",
    "                      verbose=1, \n",
    "                      scoring='accuracy', \n",
    "                      return_train_score=True)\n",
    "\n",
    "gs_KNN.fit(D_train, t_train);"
   ]
  },
  {
   "cell_type": "markdown",
   "metadata": {},
   "source": [
    "### Multinomial Evaluation Metrics <a class=\"anchor\" id=\"mn_eval\"></a>  \n",
    "\n",
    "The accuracy of the KNN model on the test data can be calculated as follows."
   ]
  },
  {
   "cell_type": "code",
   "execution_count": 25,
   "metadata": {},
   "outputs": [
    {
     "data": {
      "text/plain": [
       "0.7222222222222222"
      ]
     },
     "execution_count": 25,
     "metadata": {},
     "output_type": "execute_result"
    }
   ],
   "source": [
    "from sklearn import metrics\n",
    "\n",
    "t_pred = gs_KNN.predict(D_test)\n",
    "metrics.accuracy_score(t_test, t_pred)"
   ]
  },
  {
   "cell_type": "markdown",
   "metadata": {},
   "source": [
    "How about the confusion matrix? Clearly, it will be a 3 x 3 square matrix."
   ]
  },
  {
   "cell_type": "code",
   "execution_count": 26,
   "metadata": {},
   "outputs": [
    {
     "data": {
      "text/plain": [
       "array([[15,  1,  2],\n",
       "       [ 2, 16,  3],\n",
       "       [ 0,  7,  8]], dtype=int64)"
      ]
     },
     "execution_count": 26,
     "metadata": {},
     "output_type": "execute_result"
    }
   ],
   "source": [
    "metrics.confusion_matrix(t_test, t_pred)"
   ]
  },
  {
   "cell_type": "markdown",
   "metadata": {},
   "source": [
    "As in binary classification problems, we can also generate a classification report."
   ]
  },
  {
   "cell_type": "code",
   "execution_count": 27,
   "metadata": {},
   "outputs": [
    {
     "name": "stdout",
     "output_type": "stream",
     "text": [
      "              precision    recall  f1-score   support\n",
      "\n",
      "           0       0.88      0.83      0.86        18\n",
      "           1       0.67      0.76      0.71        21\n",
      "           2       0.62      0.53      0.57        15\n",
      "\n",
      "    accuracy                           0.72        54\n",
      "   macro avg       0.72      0.71      0.71        54\n",
      "weighted avg       0.72      0.72      0.72        54\n",
      "\n"
     ]
    }
   ],
   "source": [
    "print(metrics.classification_report(t_test, t_pred))"
   ]
  },
  {
   "cell_type": "markdown",
   "metadata": {},
   "source": [
    "In the classification report, \"micro\" averaging refers to calculating metrics globally by counting the total true positives, false negatives, and false positives. On the other hand, \"macro\" averaging refers to calculating metrics for each label, and find their unweighted mean. Macro averaging does not take label imbalance into account. Thus, micro averaging would be preferred to macro when there is a class imbalance. Likewise, if the class counts are somewhat balanced as in the wine data example, micro and macro averaging results will be similar. Also, the micro F1 score is the harmonic mean of micro recall and micro precision. To obtain micro scores, we set `average='micro'` as below."
   ]
  },
  {
   "cell_type": "code",
   "execution_count": 28,
   "metadata": {},
   "outputs": [
    {
     "data": {
      "text/plain": [
       "0.7222222222222222"
      ]
     },
     "execution_count": 28,
     "metadata": {},
     "output_type": "execute_result"
    }
   ],
   "source": [
    "metrics.recall_score(t_test, t_pred, average='micro')"
   ]
  },
  {
   "cell_type": "code",
   "execution_count": 29,
   "metadata": {},
   "outputs": [
    {
     "data": {
      "text/plain": [
       "0.7222222222222222"
      ]
     },
     "execution_count": 29,
     "metadata": {},
     "output_type": "execute_result"
    }
   ],
   "source": [
    "metrics.precision_score(t_test, t_pred, average='micro')"
   ]
  },
  {
   "cell_type": "code",
   "execution_count": 30,
   "metadata": {},
   "outputs": [
    {
     "data": {
      "text/plain": [
       "0.7222222222222222"
      ]
     },
     "execution_count": 30,
     "metadata": {},
     "output_type": "execute_result"
    }
   ],
   "source": [
    "metrics.f1_score(t_test, t_pred, average='micro')"
   ]
  },
  {
   "cell_type": "markdown",
   "metadata": {},
   "source": [
    "Finally, we can calculate the \"average class accuracy using arithmetic mean\" by using the `balanced_accuracy_score` method. This metric can be used for both binary as well as multinomial classification problems."
   ]
  },
  {
   "cell_type": "code",
   "execution_count": 31,
   "metadata": {},
   "outputs": [
    {
     "data": {
      "text/plain": [
       "0.7095238095238096"
      ]
     },
     "execution_count": 31,
     "metadata": {},
     "output_type": "execute_result"
    }
   ],
   "source": [
    "metrics.balanced_accuracy_score(t_test, t_pred)"
   ]
  },
  {
   "cell_type": "markdown",
   "metadata": {},
   "source": [
    "## Evaluating Regressors <a class=\"anchor\" id=\"regression\"></a>  \n",
    "\n",
    "### Getting Started <a class=\"anchor\" id=\"regression_started\"></a>  \n",
    "\n",
    "Let's load up the Boston housing data. Then we split the data into training and test sets."
   ]
  },
  {
   "cell_type": "code",
   "execution_count": 32,
   "metadata": {},
   "outputs": [],
   "source": [
    "from sklearn.model_selection import train_test_split\n",
    "from sklearn.datasets import load_boston\n",
    "from sklearn import preprocessing\n",
    "\n",
    "housing_df = load_boston()\n",
    "Data, target = housing_df.data, housing_df.target\n",
    "\n",
    "# scale each descriptive feature to be between 0 and 1\n",
    "Data = preprocessing.MinMaxScaler().fit_transform(Data)\n",
    "\n",
    "D_train, D_test, t_train, t_test = train_test_split(Data, target, test_size = 0.3, random_state=999)"
   ]
  },
  {
   "cell_type": "markdown",
   "metadata": {},
   "source": [
    "We choose mean squared error (MSE) for model performance evaluation and comparison. The MSE is defined as\n",
    "\n",
    "$$\\text{MSE} = \\frac{\\sum_{i=1}^{n}(t_{i} - \\mathbb{M}(d_{i})^2)}{n}$$\n",
    "\n",
    "where\n",
    "\n",
    "* $t_{1}, t_{2}, ..., t_{n}$ is the set of $n$ actual target values (in our case, housing prices) from the test data.\n",
    "* $\\mathbb{M}$ is the model we train and $\\mathbb{M}(d_{i})$ is the model's prediction for observation $d_i$ in the test data.\n",
    "\n",
    "As in classification problems, it is recommended to use the same performance metric for model evaluation and hyperparameter tuning. We determine the optimal parameters using a 3 repeated 5-folded cross validation. Keep in mind that stratification will not work with regression problems as there is nothing to stratify on as in classification problems!"
   ]
  },
  {
   "cell_type": "code",
   "execution_count": 33,
   "metadata": {},
   "outputs": [],
   "source": [
    "from sklearn.model_selection import RepeatedKFold, GridSearchCV\n",
    "cv_method = RepeatedKFold(n_splits=5, n_repeats=3, random_state=999)"
   ]
  },
  {
   "cell_type": "markdown",
   "metadata": {},
   "source": [
    "### Evaluating Multiple Regression Models <a class=\"anchor\" id=\"regression_multiple_models\"></a> \n",
    "\n",
    "Unlike the previous classification problem, we shall illustrate how we can evaluate **two** models simultaneously within the same cross validation strategy. \n",
    "\n",
    "First, we need to import the modules required to build a KNN and a DT model."
   ]
  },
  {
   "cell_type": "code",
   "execution_count": 34,
   "metadata": {},
   "outputs": [],
   "source": [
    "from sklearn.neighbors import KNeighborsRegressor\n",
    "from sklearn import tree"
   ]
  },
  {
   "cell_type": "markdown",
   "metadata": {},
   "source": [
    "Second, we create a dictionary called `models` as follows: each dictionary key corresponds to a different model and the dictionary values are the model objects. For example, the first key is `KNN` with a value of ` KNeighborsRegressor()`. "
   ]
  },
  {
   "cell_type": "code",
   "execution_count": 35,
   "metadata": {},
   "outputs": [],
   "source": [
    "models = {'KNN': KNeighborsRegressor(),\n",
    "          'DT': tree.DecisionTreeRegressor()}"
   ]
  },
  {
   "cell_type": "markdown",
   "metadata": {},
   "source": [
    "Third, we create a dictionary named `models_parameters` which **must share the same keys** as in `models` dictionary. In `models_parameters`, each item contains its own dictionary of parameters we would like to optimize. For instance, `KNN` has a dictionary consisting of `n_neighbors` and `p` keys. Within this dictionary, each item has the range of parameter values that we would like to try."
   ]
  },
  {
   "cell_type": "code",
   "execution_count": 36,
   "metadata": {},
   "outputs": [],
   "source": [
    "models_parameters = {'KNN': {'n_neighbors': [1, 2, 3, 4, 5], \n",
    "                             'p': [1, 2, 3]},\n",
    "                     'DT': {'max_depth': [2, 3, 4], \n",
    "                            'min_samples_split': [2, 3, 4, 5]}}"
   ]
  },
  {
   "cell_type": "markdown",
   "metadata": {},
   "source": [
    "Fourth, we need to create a `GridSearchCV` object where we specify `estimator=models` and `param_grid=models_parameters` to tell `GridSearchCV` the models and their corresponding parameters we wish to build and train. \n",
    "\n",
    "We define `scoring='neg_mean_squared_error'` as the regression performance metric we want to use. The convention in `scikit-learn` is that when it comes to scores, \"higher is always better\". Thus, whenever we would like to use a metric for which lower values are better (such as MSE), we need to use their negatives as the score so that we are compliant with the convention that \"higher score is better\". The reason is that maximizing the negative of MSE will actually minimize the MSE. For instance, in order to minimize MAE, we would define `scoring='neg_mean_absolute_error'`.\n",
    "\n",
    "\n",
    "For each model, we determine the optimal set of parameters that result in the lowest MSE as possible. Please remember to include `cv_method` (the cross-validation strategy we defined) in `GridSearchCV`.\n",
    "\n",
    "Finally, we run the grid search in a loop. We create a dictionary named `fitted_models` to store the grid search outputs. "
   ]
  },
  {
   "cell_type": "code",
   "execution_count": 37,
   "metadata": {},
   "outputs": [
    {
     "name": "stdout",
     "output_type": "stream",
     "text": [
      "\n",
      "Hyperparameter tuning for KNN:\n",
      "Fitting 15 folds for each of 15 candidates, totalling 225 fits\n",
      "Best KNN model: {'n_neighbors': 2, 'p': 1}\n",
      "\n",
      "Hyperparameter tuning for DT:\n",
      "Fitting 15 folds for each of 12 candidates, totalling 180 fits\n",
      "Best DT model: {'max_depth': 4, 'min_samples_split': 4}\n"
     ]
    }
   ],
   "source": [
    "fitted_models = {} # this creates an empty dictionary\n",
    "for m in models: # this will loop over the dictionary keys\n",
    "    print(f'\\nHyperparameter tuning for {m}:')\n",
    "    gs = GridSearchCV(estimator=models[m], \n",
    "                      param_grid=models_parameters[m], \n",
    "                      cv=cv_method,\n",
    "                      verbose=1, \n",
    "                      scoring='neg_mean_squared_error')\n",
    "    gs.fit(D_train, t_train);\n",
    "    fitted_models[m] = gs\n",
    "    print(f'Best {m} model: {gs.best_params_}')"
   ]
  },
  {
   "cell_type": "markdown",
   "metadata": {},
   "source": [
    "To compare KNN and DT models, we predict housing prices from the test data and compute the MSE (via `mean_squared_error(<true target value>, <predicted target value>)` from `metrics`) as below."
   ]
  },
  {
   "cell_type": "code",
   "execution_count": 38,
   "metadata": {},
   "outputs": [
    {
     "name": "stdout",
     "output_type": "stream",
     "text": [
      "MSE of KNN is: 15.997105263157895\n",
      "MSE of DT is: 18.86538143363611\n"
     ]
    }
   ],
   "source": [
    "from sklearn import metrics\n",
    "for m in fitted_models:\n",
    "    t_pred = fitted_models[m].predict(D_test)\n",
    "    mse = metrics.mean_squared_error(t_test, t_pred)\n",
    "    print(f'MSE of {m} is: {mse}')"
   ]
  },
  {
   "cell_type": "markdown",
   "metadata": {},
   "source": [
    "KNN has a lower test MSE error compared to DT, implying (optimized) KNN is more accurate in predicting the housing price.\n",
    "\n",
    "### MAE and R-Squared Metrics <a class=\"anchor\" id=\"regression_metrics\"></a> \n",
    "\n",
    "Besides MSE, we can compute other metrics:\n",
    "\n",
    "* Mean Absolute Error (MAE) which is more robust to outliers. This can be calculated via `metrics.mean_absolute_error`.\n",
    "* $R^{2}$, a domain-independent measure of error. This metric measures the amount of variability in the target feature that is explained by the descriptive features. It is between 0 and 1 with higher values being better. It can be calculated via `r2_score`.\n",
    "\n",
    "Let's check whether KNN still outperforms DT if we evaluate them using MAE or $R^{2}$."
   ]
  },
  {
   "cell_type": "code",
   "execution_count": 39,
   "metadata": {},
   "outputs": [
    {
     "name": "stdout",
     "output_type": "stream",
     "text": [
      "MAE and r-squared KNN are: 2.7947368421052627, 0.7916844989356551\n",
      "MAE and r-squared DT are: 3.1058367316241067, 0.7543335921425257\n"
     ]
    }
   ],
   "source": [
    "from sklearn import metrics\n",
    "for m in fitted_models:\n",
    "    t_pred = fitted_models[m].predict(D_test)\n",
    "    mae = metrics.mean_absolute_error(t_test, t_pred)\n",
    "    r2 = metrics.r2_score(t_test, t_pred)\n",
    "    print(f'MAE and r-squared {m} are: {mae}, {r2}')"
   ]
  },
  {
   "cell_type": "markdown",
   "metadata": {},
   "source": [
    "KNN has a lower test MAE error and a higher $R^{2}$ than DT. Thus, KNN outperforms DT with respect to these two metrics as well. In practice though, using a different metric during hyperparameter tuning will likely result in a different model evaluation. Recall that we used MSE to optimize the hyperparameters of each model. In our case, it is just a coincidence that KNN has lower MSE and MAE values and a higher $R^2$ than DT. In summary, whatever metric you want to optimize, you should use the same metric for both hyperparameter tuning and model evaluation. That is, you should avoid using different metrics for tuning and evaluation.\n",
    "\n",
    "**Refresher Questions**: \n",
    "\n",
    "* Why does a higher $R^2$ value indicate a better model performance? Hint: $R^2$ is defined as:\n",
    "\n",
    "$$R^{2} = 1 - \\frac{\\text{Sum of squared error}}{\\text{Total sum of squares}}$$\n",
    "\n",
    "* What is the range of MSE? How about MAE?\n",
    "\n",
    "\n",
    "**Important Side Notes**\n",
    "\n",
    "1. There are many ways to evaluate multiple models in `scikit-learn`. Our example makes use of dictionaries and for loops because this approach is easier. Other approaches include utilizing `pipeline` from `scikit-learn` or defining our own \"classes\" in an object-oriented programming framework. We do not cover the latter.\n",
    "2. `GridSearchCV` allows to optimize parameters using multiple metrics. Again we do not cover in this tutorial because it would return a `GridSearchCV` object with nested information.\n",
    "3. We can define our own performance metrics. If you are curious, please refer to \"[How to make scorer in scikit-learn](https://scikit-learn.org/stable/modules/generated/sklearn.metrics.make_scorer.html#sklearn.metrics.make_scorer)\"."
   ]
  },
  {
   "cell_type": "markdown",
   "metadata": {},
   "source": [
    "### Residual Analysis <a class=\"anchor\" id=\"regression_residuals\"></a> \n",
    "\n",
    "The regression metrics help us evaluate and rank model performance. However, using metrics alone cannot help us validate the models, including checking the underlying model assumptions. The model validation process primarily stems from statistics. One way to validate a model is to conduct a residual analysis. Residual is the difference between an actual value and a predicted value. That is, for observation $i$,\n",
    "\n",
    "$$\\text{Residual}_{i} = t_{i} - \\mathbb{M}(d_{i}).$$\n",
    "\n",
    "For simplicity, we shall use histograms to visualize the residuals. The goal here is to make sure that there are not too many residuals with very large negative or positive values. The intuition is that if a regression model has a good predictive power, its predictions should not deviate too much from the actual values. Likewise, we would expect residual values to be close to zero on average for a good model.\n",
    "\n",
    "To illustrate the concept, let's create a histogram of residuals for the KNN and DT models."
   ]
  },
  {
   "cell_type": "code",
   "execution_count": 40,
   "metadata": {},
   "outputs": [
    {
     "data": {
      "image/png": "[encoded data removed]",
      "text/plain": [
       "<Figure size 432x288 with 1 Axes>"
      ]
     },
     "metadata": {
      "image/png": {
       "height": 281,
       "width": 385
      }
     },
     "output_type": "display_data"
    }
   ],
   "source": [
    "t_pred_knn = fitted_models['KNN'].predict(D_test)\n",
    "residuals_knn = t_test - t_pred_knn\n",
    "\n",
    "plt.hist(residuals_knn,20)\n",
    "plt.xlabel(\"Residuals (Binned)\")\n",
    "plt.ylabel(\"Number of Residuals\")\n",
    "plt.title(\"Distribution of Residuals for KNN Model\")\n",
    "plt.show()"
   ]
  },
  {
   "cell_type": "code",
   "execution_count": 41,
   "metadata": {},
   "outputs": [
    {
     "data": {
      "image/png": "[encoded data removed]",
      "text/plain": [
       "<Figure size 432x288 with 1 Axes>"
      ]
     },
     "metadata": {
      "image/png": {
       "height": 281,
       "width": 389
      }
     },
     "output_type": "display_data"
    }
   ],
   "source": [
    "t_pred_dt = fitted_models['DT'].predict(D_test)\n",
    "residuals_dt = t_test - t_pred_dt\n",
    "\n",
    "plt.hist(residuals_dt,20)\n",
    "plt.xlabel(\"Residuals (Binned)\")\n",
    "plt.ylabel(\"Number of Residuals\")\n",
    "plt.title(\"Distribution of Residuals for DT Model\")\n",
    "plt.show()"
   ]
  },
  {
   "cell_type": "markdown",
   "metadata": {},
   "source": [
    "KNN residuals are somewhat more tightly distributed compared to that of DT. This might explain why KNN has a lower MSE value."
   ]
  },
  {
   "cell_type": "markdown",
   "metadata": {},
   "source": [
    "## Beyond Evaluation  <a class=\"anchor\" id=\"beyond\"></a> \n",
    "\n",
    "Data is unlikely to be constant (or stable) forever. For example, consumers change their spending habits and housing prices fluctuate over time. This is known as **\"concept drift\"**. Thus, it is important to monitor the model performance in an on-going validation framework. Below are some common approaches to monitor changes in the underlying process:\n",
    "\n",
    "1. Monitoring changes in model performance metrics.\n",
    "2. Monitoring model output (target) distribution changes using stability index.\n",
    "3. Monitoring descriptive feature distribution changes.\n",
    "4. Conducting comparative experiments using control groups.\n",
    "\n",
    "We shall not cover model monitoring topics in this tutorial."
   ]
  },
  {
   "cell_type": "markdown",
   "metadata": {},
   "source": [
    "# Exercises <a class=\"anchor\" id=\"exercises\"></a> "
   ]
  },
  {
   "cell_type": "markdown",
   "metadata": {},
   "source": [
    "1. Using breast cancer data, build a DT model evaluated on **precision** and compute a confusion matrix.\n",
    "2. Using the DT model from the previous question, compute and visualize a ROC curve.\n",
    "3. Using the Boston housing data, build and evaluate three regressor models - KNN, DT and (Gaussian) Naive Bayes (NB) using MAE as the metric."
   ]
  },
  {
   "cell_type": "markdown",
   "metadata": {},
   "source": [
    "***\n",
    "www.featureranking.com"
   ]
  }
 ],
 "metadata": {
  "kernelspec": {
   "display_name": "Python 3 (ipykernel)",
   "language": "python",
   "name": "python3"
  },
  "language_info": {
   "codemirror_mode": {
    "name": "ipython",
    "version": 3
   },
   "file_extension": ".py",
   "mimetype": "text/x-python",
   "name": "python",
   "nbconvert_exporter": "python",
   "pygments_lexer": "ipython3",
   "version": "3.8.10"
  }
 },
 "nbformat": 4,
 "nbformat_minor": 4
}
