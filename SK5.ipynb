{
 "cells": [
  {
   "cell_type": "markdown",
   "metadata": {
    "slideshow": {
     "slide_type": "slide"
    }
   },
   "source": [
    "# SK Part 5: Pipelines, Statistical Model Comparison, and Model Deployment"
   ]
  },
  {
   "cell_type": "markdown",
   "metadata": {
    "slideshow": {
     "slide_type": "slide"
    }
   },
   "source": [
    "In this tutorial, we discuss several advanced topics as outlined in the learning objectives below. Here, we exclusively work with the Breast Cancer Wisconsin dataset.\n",
    "\n",
    "## Learning Objectives\n",
    "\n",
    "- How to work with large datasets\n",
    "- Utilize the machine learning pipeline\n",
    "- Use parallel processing for model evaluation\n",
    "- Save and load trained models\n",
    "- Conduct statistical tests for model performance comparison\n",
    "- Deploy a model in the real world for predicting new observations"
   ]
  },
  {
   "cell_type": "markdown",
   "metadata": {
    "slideshow": {
     "slide_type": "slide"
    }
   },
   "source": [
    "## Table of Contents\n",
    "\n",
    "* [Getting Started](#0)\n",
    "* [Working with Large Datasets](#0.5)\n",
    "* [Pipelines for Stacking Processes](#1)\n",
    "* [Parallel Processing](#2) \n",
    "* [Saving and Loading Models](#3)\n",
    "* [Comparing Performance of Classifiers Using Paired T-Tests](#4)\n",
    "* [Model Deployment](#5)"
   ]
  },
  {
   "cell_type": "markdown",
   "metadata": {},
   "source": [
    "## Getting Started  <a class=\"anchor\" id=\"0\"></a>  "
   ]
  },
  {
   "cell_type": "markdown",
   "metadata": {},
   "source": [
    "Let's load the Breast Cancer Wisconsin dataset from `sklearn`. For scaling, we use the `MinMaxScaler` scaler. However, rather than fitting and transforming in one attempt, we shall perform the scaling in two steps. That is, we first fit the data to create a scaler that \"knows\" how to transform the input data. Next, we perform the actual transformation. The reason we specifically want a fitted scaler is that, once we figure out which model to use and we would like to make predictions for new observations, we will need to transform the new observations **exactly** as we transformed the descriptive features while training the model. This shall be demonstrated in the model deployment section below.\n",
    "\n",
    "As for the target feature, as mentioned in the **SK Part 3** tutorial, even though the target feature is already encoded as binary, we need to switch the target classes so that 0 is the negative class (benign) and 1 is the positive class (malignant). The reason for this switching is that we would like the malignant class to be designated as the \"positive\" class so that binary performance metrics such as recall and AUC work as intended within `Scikit-Learn`."
   ]
  },
  {
   "cell_type": "code",
   "execution_count": 1,
   "metadata": {},
   "outputs": [],
   "source": [
    "import numpy as np\n",
    "from sklearn.datasets import load_breast_cancer\n",
    "from sklearn import preprocessing\n",
    "\n",
    "df = load_breast_cancer()\n",
    "\n",
    "# pay attention that we name the original data as \"Data_unscaled\"\n",
    "Data_unscaled, target = df.data, df.target\n",
    "\n",
    "# here we define a scaler that \"knows\" how to scale input data\n",
    "# we will use this scaler when deploying a model later in this tutorial\n",
    "data_scaler = preprocessing.MinMaxScaler().fit(Data_unscaled)\n",
    "Data = data_scaler.transform(Data_unscaled)\n",
    "\n",
    "# target is already encoded, but we need to reverse the labels\n",
    "# so that malignant is the positive class\n",
    "target = np.where(target==0, 1, 0)"
   ]
  },
  {
   "cell_type": "markdown",
   "metadata": {},
   "source": [
    "## Working with Large Datasets <a class=\"anchor\" id=\"0.5\"></a>  "
   ]
  },
  {
   "cell_type": "markdown",
   "metadata": {},
   "source": [
    "Large datasets (i.e., datasets with lots of features and/ or observations) can pose as rather significant computational bottlenecks in terms of training, testing, and hyperparameter tuning. In this section, we provide some guidelines for working with large datasets in an efficient manner.\n",
    "\n",
    "In regards to a large number of features, the best way to tackle this problem is feature selection, which is discussed in detail in **SK Part 2**. Specifically, you might want to try selecting only a handful of features, such as 10, 20, or 30 features only.\n",
    "\n",
    "In regards to a large number of observations, we have a couple of options:\n",
    "- We can select a small random subset of all observations and work with this subset throughout the hyperparameter tuning. Once the best model is identified, we can go ahead and use the entire dataset for training and subsequent model deployment.\n",
    "- We can use less CPU-demanding evaluation methods, such as 3-fold cross-validation with no repetitions.\n",
    "- Instead of a full grid search for hyperparameter tuning, we can perform a limited random search over the hyperparameter space.\n",
    "\n",
    "We now discuss these options in detail.\n",
    "\n",
    "Performing a grid search to identify optimal algorithm hyperparameters can be quite taxing on your computer's hardware, especially if your dataset has lots of features and lots of observations. For this reason, before performing a grid search or utilizing a pipeline, you might want to select only a small subset of observations in your original data. This topic is explained in the tutorial **Data Preparation**. Of course, once you decide on which model to use (by training on this small subset), you can go ahead and use the entire data to train your final best model before you deploy your model in the real world.\n",
    "\n",
    "In the pipelines discussion below, we use 2-repeated 5-fold cross-validation as our evaluation method. If you are working with a very large dataset and run time is a concern, in addition to selecting a small subset of observations, you might also want to try less CPU-demanding performance evaluation methods, such as 3-fold cross-validation with no repetitions (by using `StratifiedKFold(n_splits=3)`) in order to reduce the computational burden. \n",
    "\n",
    "Furthermore, instead of performing a full grid search over the hyperparameter space, you might consider performing a small random search over this space using `RandomizedSearchCV` as explained below."
   ]
  },
  {
   "cell_type": "markdown",
   "metadata": {},
   "source": [
    "## Pipelines for Stacking Processes  <a class=\"anchor\" id=\"1\"></a>  "
   ]
  },
  {
   "cell_type": "markdown",
   "metadata": {},
   "source": [
    "We can stack feature selection and grid search for hyperparameter tuning (via cross-validation) in a \"pipeline\". \n",
    "\n",
    "In the following chunks of code, we show how to perform the following using the `Pipeline` function:\n",
    "1. Perform feature selection using `SelectKBest`. We shall use the `f_classif` and `mutual_info_classif` score functions with 10, 20, and full set of features.\n",
    "2. Train a KNN model with different k and p values using AUC as our performance metric.\n",
    "\n",
    "The general format for specifying parameters of the pipe processes is `<model_label_for_pipe>__<model_parameter>.`\n",
    "\n",
    "As an example, we label our learning model as `knn`. Thus, in `params`, we specify the parameter names starting with `knn__`, i.e., `knn__n_neighbors` and `knn__p`. "
   ]
  },
  {
   "cell_type": "code",
   "execution_count": 2,
   "metadata": {},
   "outputs": [],
   "source": [
    "from sklearn.pipeline import Pipeline\n",
    "from sklearn.neighbors import KNeighborsClassifier\n",
    "from sklearn.model_selection import RepeatedStratifiedKFold, GridSearchCV\n",
    "from sklearn.feature_selection import SelectKBest, f_classif, mutual_info_classif\n",
    "\n",
    "cv_method = RepeatedStratifiedKFold(n_splits=5, \n",
    "                                    n_repeats=2, \n",
    "                                    random_state=999)\n",
    "\n",
    "# define a pipeline with two processes\n",
    "# if you like, you can put MinMaxScaler() in the pipeline as well\n",
    "pipe_KNN = Pipeline([('fselector', SelectKBest()), \n",
    "                     ('knn', KNeighborsClassifier())])\n",
    "\n",
    "params_pipe_KNN = {'fselector__score_func': [f_classif, mutual_info_classif],\n",
    "                   'fselector__k': [10, 20, Data.shape[1]],\n",
    "                   'knn__n_neighbors': [1, 2, 3, 4, 5],\n",
    "                   'knn__p': [1, 2]}\n",
    " \n",
    "gs_pipe_KNN = GridSearchCV(estimator=pipe_KNN, \n",
    "                           param_grid=params_pipe_KNN, \n",
    "                           cv=cv_method,\n",
    "                           scoring='roc_auc',\n",
    "                           verbose=1) "
   ]
  },
  {
   "cell_type": "markdown",
   "metadata": {},
   "source": [
    "After defining the pipeline, we can go ahead and fit our data. Observe that our grid search involves 2 x 3 x 5 x 2 = 60 different parameter combinations."
   ]
  },
  {
   "cell_type": "code",
   "execution_count": 3,
   "metadata": {},
   "outputs": [
    {
     "name": "stdout",
     "output_type": "stream",
     "text": [
      "Fitting 10 folds for each of 60 candidates, totalling 600 fits\n"
     ]
    }
   ],
   "source": [
    "gs_pipe_KNN.fit(Data, target);"
   ]
  },
  {
   "cell_type": "code",
   "execution_count": 4,
   "metadata": {},
   "outputs": [
    {
     "data": {
      "text/plain": [
       "{'fselector__k': 20,\n",
       " 'fselector__score_func': <function sklearn.feature_selection._mutual_info.mutual_info_classif(X, y, *, discrete_features='auto', n_neighbors=3, copy=True, random_state=None)>,\n",
       " 'knn__n_neighbors': 5,\n",
       " 'knn__p': 2}"
      ]
     },
     "execution_count": 4,
     "metadata": {},
     "output_type": "execute_result"
    }
   ],
   "source": [
    "gs_pipe_KNN.best_params_"
   ]
  },
  {
   "cell_type": "code",
   "execution_count": 5,
   "metadata": {},
   "outputs": [
    {
     "data": {
      "text/plain": [
       "0.9932488178424552"
      ]
     },
     "execution_count": 5,
     "metadata": {},
     "output_type": "execute_result"
    }
   ],
   "source": [
    "gs_pipe_KNN.best_score_"
   ]
  },
  {
   "cell_type": "markdown",
   "metadata": {},
   "source": [
    "We observe that we get the best performance with the 20 features selected by the F-score with 5 nearest neighbors and with the Manhattan distance metric for an AUC score of 98.7%. Below is the best estimator as a Pipeline object."
   ]
  },
  {
   "cell_type": "code",
   "execution_count": 6,
   "metadata": {},
   "outputs": [
    {
     "data": {
      "text/plain": [
       "Pipeline(steps=[('fselector',\n",
       "                 SelectKBest(k=20,\n",
       "                             score_func=<function mutual_info_classif at 0x00000151B510C940>)),\n",
       "                ('knn', KNeighborsClassifier())])"
      ]
     },
     "execution_count": 6,
     "metadata": {},
     "output_type": "execute_result"
    }
   ],
   "source": [
    "gs_pipe_KNN.best_estimator_"
   ]
  },
  {
   "cell_type": "markdown",
   "metadata": {},
   "source": [
    "**Randomized Search:** Searching across the entire set of hyperparameter combinations in a complete grid search can be rather time consuming. For this reason, if you define a very large search space, you might want to use `RandomizedSearchCV` rather than `GridSearchCV` which will only search a randomly selected small subset of the hyperparameter space. For this function, you specify an `n_iter` option which controls the total number of random hyperparameter combinations that you want to try all together. Per official documentation, \"In contrast to GridSearchCV, not all parameter values are tried out, but rather a fixed number of parameter settings is sampled from the specified distributions. The number of parameter settings that are tried is given by n_iter\". `RandomizedSearchCV` will certainly speed up the search, but the downside is that you might miss the truly optimal hyperparameter combination because this particular combination might not be among the ones that are selected by `RandomizedSearchCV`. Here is an example of randomized search with only 10 random combinations."
   ]
  },
  {
   "cell_type": "code",
   "execution_count": 7,
   "metadata": {},
   "outputs": [
    {
     "name": "stdout",
     "output_type": "stream",
     "text": [
      "Fitting 10 folds for each of 10 candidates, totalling 100 fits\n"
     ]
    }
   ],
   "source": [
    "from sklearn.model_selection import RandomizedSearchCV\n",
    "\n",
    "n_iter_search = 10\n",
    "random_pipe_KNN = RandomizedSearchCV(estimator=pipe_KNN, \n",
    "                           param_distributions=params_pipe_KNN, \n",
    "                           cv=cv_method,\n",
    "                           scoring='roc_auc',\n",
    "                           n_iter=n_iter_search,\n",
    "                           verbose=1) \n",
    "\n",
    "random_pipe_KNN.fit(Data, target);"
   ]
  },
  {
   "cell_type": "code",
   "execution_count": 8,
   "metadata": {},
   "outputs": [
    {
     "data": {
      "text/plain": [
       "{'knn__p': 2,\n",
       " 'knn__n_neighbors': 4,\n",
       " 'fselector__score_func': <function sklearn.feature_selection._mutual_info.mutual_info_classif(X, y, *, discrete_features='auto', n_neighbors=3, copy=True, random_state=None)>,\n",
       " 'fselector__k': 20}"
      ]
     },
     "execution_count": 8,
     "metadata": {},
     "output_type": "execute_result"
    }
   ],
   "source": [
    "random_pipe_KNN.best_params_"
   ]
  },
  {
   "cell_type": "code",
   "execution_count": 9,
   "metadata": {},
   "outputs": [
    {
     "data": {
      "text/plain": [
       "0.991716459393744"
      ]
     },
     "execution_count": 9,
     "metadata": {},
     "output_type": "execute_result"
    }
   ],
   "source": [
    "random_pipe_KNN.best_score_"
   ]
  },
  {
   "cell_type": "markdown",
   "metadata": {},
   "source": [
    "## Parallel Processing <a class=\"anchor\" id=\"2\"></a>"
   ]
  },
  {
   "cell_type": "markdown",
   "metadata": {},
   "source": [
    "Let's discuss how we can speed up execution of the pipeline. Some `Scikit-Learn` functions (such as `GridSearchCV`, `RandomizedSearchCV`, and `cross_val_score`) have an argument named `n_jobs` that specifies the number of cores that needs to be used in the process. By default, `sklearn` functions use `n_jobs=1`, which results in no parallel processing at all and therefore a slower traing process. In order to achieve parallel processing, we change this parameter's value. For instance, we can set `n_jobs=2` to use 2 cores, or we can set `n_jobs=-1` to fire up all cores in our computer. This parallel approach is known as \"multiprocessing\". However, using all the cores is not a good idea as this will probably make your computer almost unusable in the meantime. For this reason, we recommend setting `n_jobs=-2` so that `Scikit-Learn` uses all the cores except one. Thus, we leave one core out of the parallel processing to give our computer some breathing space.\n",
    "\n",
    "Notice that below we set `n_jobs` to -2 to use all the cores but one."
   ]
  },
  {
   "cell_type": "code",
   "execution_count": 10,
   "metadata": {},
   "outputs": [
    {
     "name": "stdout",
     "output_type": "stream",
     "text": [
      "Fitting 10 folds for each of 60 candidates, totalling 600 fits\n"
     ]
    }
   ],
   "source": [
    "gs_pipe_KNN_all_cores = GridSearchCV(estimator=pipe_KNN, \n",
    "                           param_grid=params_pipe_KNN, \n",
    "                           cv=cv_method,\n",
    "                           n_jobs=-2,\n",
    "                           scoring='roc_auc', \n",
    "                           verbose=1)\n",
    "\n",
    "gs_pipe_KNN_all_cores.fit(Data, target);"
   ]
  },
  {
   "cell_type": "markdown",
   "metadata": {},
   "source": [
    "Do not assume that using parallel processing will always result in shorter run times. Parallel processing has an overhead where the task at hand needs to be split into sub-tasks and this has a time cost. Whether parallel processing is faster than sequential processing depends on a lot of factors, such as your dataset's characteristics (too small or too big), your algorithm, your pipeline, and your computer's hardware. So, you might want to experiment with this for your particular problem."
   ]
  },
  {
   "cell_type": "markdown",
   "metadata": {},
   "source": [
    "## Saving and Loading Models <a class=\"anchor\" id=\"3\"></a>"
   ]
  },
  {
   "cell_type": "markdown",
   "metadata": {},
   "source": [
    "Once we execute a pipeline and obtain the best estimator, we can retrain the model with these optimal parameters using the full dataset before we make a new prediction. Alternatively, we can save the best estimator from the pipeline and load it whenever we need it.\n",
    "\n",
    "The best model from the pipeline is shown below."
   ]
  },
  {
   "cell_type": "code",
   "execution_count": 11,
   "metadata": {},
   "outputs": [
    {
     "data": {
      "text/plain": [
       "Pipeline(steps=[('fselector',\n",
       "                 SelectKBest(k=20,\n",
       "                             score_func=<function mutual_info_classif at 0x00000151B510C940>)),\n",
       "                ('knn', KNeighborsClassifier())])"
      ]
     },
     "execution_count": 11,
     "metadata": {},
     "output_type": "execute_result"
    }
   ],
   "source": [
    "gs_pipe_KNN.best_estimator_"
   ]
  },
  {
   "cell_type": "markdown",
   "metadata": {},
   "source": [
    "Let's save the best model as \"best_KNN.pkl\" in a `pickle` format. This is a compressed format for Python."
   ]
  },
  {
   "cell_type": "code",
   "execution_count": 12,
   "metadata": {},
   "outputs": [
    {
     "data": {
      "text/plain": [
       "['best_KNN.pkl']"
      ]
     },
     "execution_count": 12,
     "metadata": {},
     "output_type": "execute_result"
    }
   ],
   "source": [
    "import joblib\n",
    "\n",
    "joblib.dump(gs_pipe_KNN.best_estimator_, 'best_KNN.pkl', compress = 1)"
   ]
  },
  {
   "cell_type": "markdown",
   "metadata": {},
   "source": [
    "To retreive the saved model object, we load it using `joblib.load` function. "
   ]
  },
  {
   "cell_type": "code",
   "execution_count": 13,
   "metadata": {},
   "outputs": [],
   "source": [
    "saved_knn = joblib.load('best_KNN.pkl')"
   ]
  },
  {
   "cell_type": "markdown",
   "metadata": {},
   "source": [
    "Once we load the best model, we can use it to make predictions. For instance, let's predict the target label for the first 20 rows in the full dataset."
   ]
  },
  {
   "cell_type": "code",
   "execution_count": 14,
   "metadata": {},
   "outputs": [
    {
     "data": {
      "text/plain": [
       "array([1, 1, 1, 1, 1, 1, 1, 1, 1, 1, 1, 1, 1, 1, 1, 1, 1, 1, 1, 0])"
      ]
     },
     "execution_count": 14,
     "metadata": {},
     "output_type": "execute_result"
    }
   ],
   "source": [
    "saved_knn.predict(Data[0:20,])"
   ]
  },
  {
   "cell_type": "markdown",
   "metadata": {},
   "source": [
    "## Comparing Performance of Classifiers Using Paired T-Tests <a class=\"anchor\" id=\"4\"></a>"
   ]
  },
  {
   "cell_type": "markdown",
   "metadata": {},
   "source": [
    "For performance assessment of classifiers and regressors, we use repeated cross-validation. However, cross-validation itself is a random process and we need statistical tests in order to determine if any difference between the performance of any two classification methods is statistically significant; or if it is within the sample variation and the difference is statistically insignificant.\n",
    "\n",
    "Let's now do the following: select the best 3 features among the descriptive features using the F-Score metric and compare the best tree estimator to the best nearest neighbor estimator using these 3 features. We will continue using AUC as our performance metric.\n",
    "\n",
    "First, we execute another KNN pipeline with the same parameters, but with only 3 features as selected by the F-score method. "
   ]
  },
  {
   "cell_type": "code",
   "execution_count": 15,
   "metadata": {},
   "outputs": [
    {
     "name": "stdout",
     "output_type": "stream",
     "text": [
      "Fitting 10 folds for each of 10 candidates, totalling 100 fits\n"
     ]
    }
   ],
   "source": [
    "params_pipe_KNN_fs = {'fselector__k': [3],\n",
    "                      'knn__n_neighbors': [1, 2, 3, 4, 5],\n",
    "                      'knn__p': [1, 2]}\n",
    " \n",
    "pipe_KNN_fs = Pipeline([('fselector', SelectKBest(score_func=f_classif)), \n",
    "                        ('knn', KNeighborsClassifier())])\n",
    "\n",
    "gs_pipe_KNN_fs = GridSearchCV(estimator=pipe_KNN_fs, \n",
    "                           param_grid=params_pipe_KNN_fs, \n",
    "                           cv=cv_method,\n",
    "                           n_jobs=-2,\n",
    "                           scoring='roc_auc', \n",
    "                           verbose=1)\n",
    "\n",
    "gs_pipe_KNN_fs.fit(Data, target);"
   ]
  },
  {
   "cell_type": "code",
   "execution_count": 16,
   "metadata": {},
   "outputs": [
    {
     "data": {
      "text/plain": [
       "{'fselector__k': 3, 'knn__n_neighbors': 5, 'knn__p': 1}"
      ]
     },
     "execution_count": 16,
     "metadata": {},
     "output_type": "execute_result"
    }
   ],
   "source": [
    "gs_pipe_KNN_fs.best_params_"
   ]
  },
  {
   "cell_type": "code",
   "execution_count": 17,
   "metadata": {},
   "outputs": [
    {
     "data": {
      "text/plain": [
       "0.9729383623012839"
      ]
     },
     "execution_count": 17,
     "metadata": {},
     "output_type": "execute_result"
    }
   ],
   "source": [
    "gs_pipe_KNN_fs.best_score_"
   ]
  },
  {
   "cell_type": "markdown",
   "metadata": {},
   "source": [
    "Next, let's execute the DT pipeline with the same 3 features as selected by the F-score method."
   ]
  },
  {
   "cell_type": "code",
   "execution_count": 18,
   "metadata": {},
   "outputs": [
    {
     "name": "stdout",
     "output_type": "stream",
     "text": [
      "Fitting 10 folds for each of 8 candidates, totalling 80 fits\n"
     ]
    }
   ],
   "source": [
    "from sklearn.tree import DecisionTreeClassifier\n",
    "\n",
    "df_classifier = DecisionTreeClassifier(random_state=999)\n",
    "\n",
    "params_pipe_DT_fs = {'fselector__k': [3],                  \n",
    "                  'dt__criterion': ['gini', 'entropy'],\n",
    "                  'dt__max_depth': [1, 2, 3, 4]}\n",
    " \n",
    "pipe_DT_fs = Pipeline([('fselector', SelectKBest(score_func=f_classif)), \n",
    "                    ('dt', df_classifier)])\n",
    "\n",
    "gs_pipe_DT_fs  = GridSearchCV(estimator=pipe_DT_fs, \n",
    "                           param_grid=params_pipe_DT_fs, \n",
    "                           cv=cv_method,\n",
    "                           n_jobs=-2,\n",
    "                           scoring='roc_auc', \n",
    "                           verbose=1)\n",
    "\n",
    "gs_pipe_DT_fs.fit(Data, target);"
   ]
  },
  {
   "cell_type": "code",
   "execution_count": 19,
   "metadata": {},
   "outputs": [
    {
     "data": {
      "text/plain": [
       "{'dt__criterion': 'entropy', 'dt__max_depth': 3, 'fselector__k': 3}"
      ]
     },
     "execution_count": 19,
     "metadata": {},
     "output_type": "execute_result"
    }
   ],
   "source": [
    "gs_pipe_DT_fs.best_params_"
   ]
  },
  {
   "cell_type": "markdown",
   "metadata": {},
   "source": [
    "We see that the best parameters are the entropy split criterion with a maximum depth of 3."
   ]
  },
  {
   "cell_type": "code",
   "execution_count": 20,
   "metadata": {},
   "outputs": [
    {
     "data": {
      "text/plain": [
       "0.9601335185965059"
      ]
     },
     "execution_count": 20,
     "metadata": {},
     "output_type": "execute_result"
    }
   ],
   "source": [
    "gs_pipe_DT_fs.best_score_"
   ]
  },
  {
   "cell_type": "markdown",
   "metadata": {},
   "source": [
    "Now we are ready to compare the best DT estimator against the best KNN estimator. This time let's use a stratified 5-fold cross-validation with 5 repetitions. But we will set a different random seed this time. We will also use parallel processing to speed up the cross-validation process."
   ]
  },
  {
   "cell_type": "code",
   "execution_count": 21,
   "metadata": {},
   "outputs": [
    {
     "data": {
      "text/plain": [
       "0.971"
      ]
     },
     "execution_count": 21,
     "metadata": {},
     "output_type": "execute_result"
    }
   ],
   "source": [
    "from sklearn.model_selection import cross_val_score\n",
    "\n",
    "cv_method_ttest = RepeatedStratifiedKFold(n_splits=5, \n",
    "                                          n_repeats=5, \n",
    "                                          random_state=111)\n",
    "\n",
    "cv_results_KNN = cross_val_score(estimator=gs_pipe_KNN_fs.best_estimator_,\n",
    "                                 X=Data,\n",
    "                                 y=target, \n",
    "                                 cv=cv_method_ttest, \n",
    "                                 n_jobs=-2,\n",
    "                                 scoring='roc_auc')\n",
    "cv_results_KNN.mean().round(3)"
   ]
  },
  {
   "cell_type": "code",
   "execution_count": 22,
   "metadata": {},
   "outputs": [
    {
     "data": {
      "text/plain": [
       "0.959"
      ]
     },
     "execution_count": 22,
     "metadata": {},
     "output_type": "execute_result"
    }
   ],
   "source": [
    "cv_results_DT = cross_val_score(estimator=gs_pipe_DT_fs.best_estimator_,\n",
    "                                X=Data,\n",
    "                                y=target, \n",
    "                                cv=cv_method_ttest, \n",
    "                                n_jobs=-2,\n",
    "                                scoring='roc_auc')\n",
    "cv_results_DT.mean().round(3)"
   ]
  },
  {
   "cell_type": "markdown",
   "metadata": {},
   "source": [
    "Since we fixed the random state to be same for both cross-validation procedures, both classifiers were fitted and then tested on exactly the same data partitions. This indicates that our experiments were actually paired. Conducting experiments in a paired fashion reduces the variability significantly compared to conducting experiments in an independent fashion.\n",
    "\n",
    "Let's now conduct paired t-tests to see if the difference between the best tree and best nearest neighbor models is statistically significant.\n",
    "\n",
    "For a paired t-test in Python, we use the `stats.ttest_rel` function inside the `scipy` module and look at the p-values. At a 95% significance level, if the p-value is smaller than 0.05, we  conclude that the difference is statistically significant."
   ]
  },
  {
   "cell_type": "code",
   "execution_count": 23,
   "metadata": {},
   "outputs": [
    {
     "name": "stdout",
     "output_type": "stream",
     "text": [
      "0.012\n"
     ]
    }
   ],
   "source": [
    "from scipy import stats\n",
    "\n",
    "print(stats.ttest_rel(cv_results_DT, cv_results_KNN).pvalue.round(3))"
   ]
  },
  {
   "cell_type": "markdown",
   "metadata": {},
   "source": [
    "We observe that the p-value of our paired t-test is below 0.05. Thus, we conclude that, at a 95% level, this difference is statistically significant. Another observation here is that performances of the classifiers with only 3 features is not bad at all; they are slightly lower compared to corresponding classifiers trained with the full set of 30 features.\n",
    "\n",
    "As a side note, we do not recommend using more than 5 repetitions within a repeated cross-validation scheme. The reason is that, one can set an extremely high number of repetitions and, in this case even a very small difference becomes statistically significant. In addition, you need to think about the difference in practical terms. For instance, suppose the difference between two classifiers, say A and B, is 1.5%, and it is statistically significant. However, is it really the case that there is a practical difference and classifier A is always better than B? After all, the dataset you have is a small subset of the entire population in most cases, and the dataset itself is random. Another selection of a dataset from the same population might perhaps would have reversed the situation, this time making classifier B better than A (for example, consider another independent set of 569 patients for breast cancer screening). Thus, setting the repetitions too high ends up **overfitting** the dataset and it is generally not a good idea."
   ]
  },
  {
   "cell_type": "markdown",
   "metadata": {},
   "source": [
    "## Model Deployment <a class=\"anchor\" id=\"5\"></a>"
   ]
  },
  {
   "cell_type": "markdown",
   "metadata": {},
   "source": [
    "Suppose we decided that the best estimator of the KNN pipeline (with the full set of features) is the preferred machine learning method for our problem. So, now we would like to go ahead and deploy this model in the real world for making a prediction on a new set of observations. \n",
    "\n",
    "The business of train-test-split (or cross-validation) is for comparing models and making sure we are not overfitting. Once we figure out which model to use for deployment, we use the **entire data** for training, not just the train data. Think about this: why would you throw away a good chunk of your data (say, 30% that you used for testing) while training a model for deployment? That would be a waste of data, and data is always valuable.\n",
    "\n",
    "Once we train our deployment model with the entire data, we are ready to make predictions for new observations. The trick here is that, before making a new prediction, we must scale the new observations **exactly** as we scale the original input data. \n",
    "\n",
    "As an example, suppose the model is a main-effects logistic regression model. Consider an age feature with a minimum value of 20 and a maximum value of 60 that was normalized between 0 and 1 during training. Suppose the coefficient of the age feature in the logistic regression (after model fitting) is 1.6. For an observation with an age value of 40, its normalized value would be 0.5 and its contribution to the linear part in the logistic regression would be 1.6 x 0.5 = 0.8. In a set of new observations, suppose the minimum age is 30 and maximum age is 80. If normalized from scratch, an observation with an age value of 40 in the new set of observations would be (40-30)/(80-30) = 0.2, and its contribution to the linear part in the logistic regression would be 1.6 x 0.2 = 0.32, which will clearly result in different prediction probabilities. **This example illustrates that new observations must be scaled exactly the same way as the original data.**\n",
    "\n",
    "For this purpose, we use the \"data_scaler\" object that we created earlier that \"knows\" how to transform input data. As an illustration, suppose we would like to find out the model's prediction for the first three rows in the input data. Of course, we already know the labels of these  rows (which are all malignant), so this is just to illustrate how you would make a prediction for a new set of observations."
   ]
  },
  {
   "cell_type": "code",
   "execution_count": 24,
   "metadata": {},
   "outputs": [
    {
     "data": {
      "text/plain": [
       "array([1, 1, 1])"
      ]
     },
     "execution_count": 24,
     "metadata": {},
     "output_type": "execute_result"
    }
   ],
   "source": [
    "knn_classifier_deployment = gs_pipe_KNN.best_estimator_\n",
    "\n",
    "# train deployment model on the entire (scaled) data\n",
    "knn_classifier_deployment.fit(Data, target)\n",
    "\n",
    "# get the first three observations from the original (unscaled) input data\n",
    "obs_for_prediction_unscaled = Data_unscaled[0:3, ]\n",
    "\n",
    "# scale these observations using the min-max scaler that was fitted to the input data\n",
    "obs_for_prediction = data_scaler.transform(obs_for_prediction_unscaled)\n",
    "\n",
    "# use the model's predict function for making a prediction for these three observations\n",
    "knn_classifier_deployment.predict(obs_for_prediction)"
   ]
  },
  {
   "cell_type": "markdown",
   "metadata": {},
   "source": [
    "***\n",
    "www.featureranking.com"
   ]
  }
 ],
 "metadata": {
  "kernelspec": {
   "display_name": "Python 3 (ipykernel)",
   "language": "python",
   "name": "python3"
  },
  "language_info": {
   "codemirror_mode": {
    "name": "ipython",
    "version": 3
   },
   "file_extension": ".py",
   "mimetype": "text/x-python",
   "name": "python",
   "nbconvert_exporter": "python",
   "pygments_lexer": "ipython3",
   "version": "3.8.10"
  }
 },
 "nbformat": 4,
 "nbformat_minor": 2
}
